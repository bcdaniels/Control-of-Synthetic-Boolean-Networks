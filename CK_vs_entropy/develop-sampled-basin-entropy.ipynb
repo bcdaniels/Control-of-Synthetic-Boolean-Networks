{
 "cells": [
  {
   "cell_type": "code",
   "execution_count": null,
   "id": "d0272865",
   "metadata": {},
   "outputs": [],
   "source": [
    "# develop-sampled-basin-entropy.ipynb\n",
    "#\n",
    "# Bryan Daniels\n",
    "# 2023/12/7\n",
    "#\n",
    "# Can we use sampling to get a good estimate of the basin entropy if all attractors are known?\n",
    "#"
   ]
  },
  {
   "cell_type": "code",
   "execution_count": 2,
   "id": "0b45a4bf",
   "metadata": {},
   "outputs": [
    {
     "data": {
      "text/plain": [
       "<module 'neet.controlkernel.modularity' from '/Users/bdaniel6/packages/Neet/neet/controlkernel/modularity.py'>"
      ]
     },
     "execution_count": 2,
     "metadata": {},
     "output_type": "execute_result"
    }
   ],
   "source": [
    "from neet.boolean import LogicNetwork\n",
    "import neet.controlkernel.modularity as md\n",
    "import random\n",
    "from importlib import reload\n",
    "reload(md)"
   ]
  },
  {
   "cell_type": "markdown",
   "id": "7de5b88b",
   "metadata": {},
   "source": [
    "# get sampled basin counts"
   ]
  },
  {
   "cell_type": "code",
   "execution_count": 61,
   "id": "258d8d09",
   "metadata": {},
   "outputs": [],
   "source": [
    "table = [((0,1,2),{'001','010','011','101','110'}),\n",
    "                 ((0,1,2),{'010','011','110'}),\n",
    "                 ((0,1,2),{'001','011','101'})]\n",
    "net = LogicNetwork(table)"
   ]
  },
  {
   "cell_type": "code",
   "execution_count": 72,
   "id": "cdb550c4",
   "metadata": {},
   "outputs": [
    {
     "data": {
      "text/plain": [
       "(array([[0],\n",
       "        [3],\n",
       "        [5]]),\n",
       " [4, 2, 2])"
      ]
     },
     "execution_count": 72,
     "metadata": {},
     "output_type": "execute_result"
    }
   ],
   "source": [
    "md.sampled_basin_counts(net)"
   ]
  },
  {
   "cell_type": "code",
   "execution_count": 4,
   "id": "688d9a48",
   "metadata": {},
   "outputs": [],
   "source": [
    "from neet.boolean.examples import s_pombe, s_cerevisiae"
   ]
  },
  {
   "cell_type": "code",
   "execution_count": 67,
   "id": "df6b744a",
   "metadata": {},
   "outputs": [
    {
     "name": "stderr",
     "output_type": "stream",
     "text": [
      "/Users/bdaniel6/packages/Neet/neet/landscape.py:1118: VisibleDeprecationWarning: Creating an ndarray from ragged nested sequences (which is a list-or-tuple of lists-or-tuples-or ndarrays with different lengths or shapes) is deprecated. If you meant to do this, you must specify 'dtype=object' when creating the ndarray.\n",
      "  data.attractors = np.asarray(attractor_paths)\n",
      "/Users/bdaniel6/packages/Neet/neet/controlkernel/modularity.py:630: VisibleDeprecationWarning: Creating an ndarray from ragged nested sequences (which is a list-or-tuple of lists-or-tuples-or ndarrays with different lengths or shapes) is deprecated. If you meant to do this, you must specify 'dtype=object' when creating the ndarray.\n",
      "  \n"
     ]
    }
   ],
   "source": [
    "atts_md,basin_sizes = md.sampled_basin_counts(s_pombe)"
   ]
  },
  {
   "cell_type": "code",
   "execution_count": 69,
   "id": "857161bb",
   "metadata": {},
   "outputs": [
    {
     "data": {
      "text/plain": [
       "[378, 2, 2, 2, 104, 6, 6, 2, 2, 2, 2, 2, 2]"
      ]
     },
     "execution_count": 69,
     "metadata": {},
     "output_type": "execute_result"
    }
   ],
   "source": [
    "basin_sizes"
   ]
  },
  {
   "cell_type": "code",
   "execution_count": 70,
   "id": "30e86ee9",
   "metadata": {},
   "outputs": [
    {
     "data": {
      "text/plain": [
       "array([378,   2,   2,   2, 104,   6,   6,   2,   2,   2,   2,   2,   2])"
      ]
     },
     "execution_count": 70,
     "metadata": {},
     "output_type": "execute_result"
    }
   ],
   "source": [
    "s_pombe.basin_sizes"
   ]
  },
  {
   "cell_type": "markdown",
   "id": "fab4cf3f",
   "metadata": {},
   "source": [
    "# estimate uncertainties in counts and in basin entropy"
   ]
  },
  {
   "cell_type": "code",
   "execution_count": 5,
   "id": "97ab9a72",
   "metadata": {},
   "outputs": [
    {
     "name": "stderr",
     "output_type": "stream",
     "text": [
      "/Users/bdaniel6/packages/Neet/neet/landscape.py:1118: VisibleDeprecationWarning: Creating an ndarray from ragged nested sequences (which is a list-or-tuple of lists-or-tuples-or ndarrays with different lengths or shapes) is deprecated. If you meant to do this, you must specify 'dtype=object' when creating the ndarray.\n",
      "  data.attractors = np.asarray(attractor_paths)\n",
      "/Users/bdaniel6/packages/Neet/neet/controlkernel/modularity.py:632: VisibleDeprecationWarning: Creating an ndarray from ragged nested sequences (which is a list-or-tuple of lists-or-tuples-or ndarrays with different lengths or shapes) is deprecated. If you meant to do this, you must specify 'dtype=object' when creating the ndarray.\n",
      "  a = np.asarray( encode_attractors(a) )\n"
     ]
    },
    {
     "data": {
      "text/plain": [
       "(1.246531259739369, 0.07597820215740052)"
      ]
     },
     "execution_count": 5,
     "metadata": {},
     "output_type": "execute_result"
    }
   ],
   "source": [
    "md.sampled_basin_entropy_NSB(s_pombe)"
   ]
  },
  {
   "cell_type": "code",
   "execution_count": 6,
   "id": "2e2ec61a",
   "metadata": {},
   "outputs": [
    {
     "data": {
      "text/plain": [
       "9"
      ]
     },
     "execution_count": 6,
     "metadata": {},
     "output_type": "execute_result"
    }
   ],
   "source": [
    "s_pombe.size"
   ]
  },
  {
   "cell_type": "code",
   "execution_count": 7,
   "id": "598e25a3",
   "metadata": {},
   "outputs": [
    {
     "data": {
      "text/plain": [
       "1.2218888338849747"
      ]
     },
     "execution_count": 7,
     "metadata": {},
     "output_type": "execute_result"
    }
   ],
   "source": [
    "s_pombe.basin_entropy"
   ]
  },
  {
   "cell_type": "code",
   "execution_count": 8,
   "id": "8f0e7463",
   "metadata": {},
   "outputs": [],
   "source": [
    "table = [((0,1,2),{'001','010','011','101','110'}),\n",
    "                 ((0,1,2),{'010','011','110'}),\n",
    "                 ((0,1,2),{'001','011','101'})]\n",
    "net = LogicNetwork(table)"
   ]
  },
  {
   "cell_type": "code",
   "execution_count": 9,
   "id": "8dc816fb",
   "metadata": {},
   "outputs": [
    {
     "data": {
      "text/plain": [
       "(1.4575195692864567, 0.13815644044230516)"
      ]
     },
     "execution_count": 9,
     "metadata": {},
     "output_type": "execute_result"
    }
   ],
   "source": [
    "md.sampled_basin_entropy_NSB(net)"
   ]
  },
  {
   "cell_type": "code",
   "execution_count": 10,
   "id": "cca7beb8",
   "metadata": {},
   "outputs": [
    {
     "data": {
      "text/plain": [
       "1.5"
      ]
     },
     "execution_count": 10,
     "metadata": {},
     "output_type": "execute_result"
    }
   ],
   "source": [
    "net.basin_entropy"
   ]
  },
  {
   "cell_type": "markdown",
   "id": "34db2fa8",
   "metadata": {},
   "source": [
    "# try on cell collective "
   ]
  },
  {
   "cell_type": "code",
   "execution_count": 11,
   "id": "b2803971",
   "metadata": {},
   "outputs": [],
   "source": [
    "def load_cell_collective_network(directory):\n",
    "    \"\"\"\n",
    "    Creates neet network from cell collective data in the given directory.\n",
    "    \"\"\"\n",
    "    expressions_file = '{}/expressions.txt'.format(directory)\n",
    "    external_file = '{}/external.txt'.format(directory)\n",
    "    net = LogicNetwork.read_logic(expressions_file, external_file)\n",
    "    return net"
   ]
  },
  {
   "cell_type": "code",
   "execution_count": 14,
   "id": "5f5cc9cf",
   "metadata": {},
   "outputs": [],
   "source": [
    "cell_collective_directory = '../../Data/Cell Collective/'"
   ]
  },
  {
   "cell_type": "code",
   "execution_count": 15,
   "id": "2425efbc",
   "metadata": {},
   "outputs": [],
   "source": [
    "net = load_cell_collective_network(cell_collective_directory+\"/BT474_Breast_Cell_Line_Long-term_ErbB_Network\")"
   ]
  },
  {
   "cell_type": "code",
   "execution_count": 16,
   "id": "0c33198b",
   "metadata": {},
   "outputs": [
    {
     "data": {
      "text/plain": [
       "25"
      ]
     },
     "execution_count": 16,
     "metadata": {},
     "output_type": "execute_result"
    }
   ],
   "source": [
    "net.size"
   ]
  },
  {
   "cell_type": "code",
   "execution_count": null,
   "id": "706684f4",
   "metadata": {},
   "outputs": [],
   "source": [
    "md.sampled_basin_entropy_NSB(net)"
   ]
  },
  {
   "cell_type": "code",
   "execution_count": null,
   "id": "acd40f97",
   "metadata": {},
   "outputs": [],
   "source": []
  }
 ],
 "metadata": {
  "kernelspec": {
   "display_name": "Python 3 (ipykernel)",
   "language": "python",
   "name": "python3"
  },
  "language_info": {
   "codemirror_mode": {
    "name": "ipython",
    "version": 3
   },
   "file_extension": ".py",
   "mimetype": "text/x-python",
   "name": "python",
   "nbconvert_exporter": "python",
   "pygments_lexer": "ipython3",
   "version": "3.9.16"
  }
 },
 "nbformat": 4,
 "nbformat_minor": 5
}

{
 "cells": [
  {
   "cell_type": "code",
   "execution_count": 2,
   "id": "16834dd1",
   "metadata": {},
   "outputs": [],
   "source": [
    "# basin-sizes-to-control-kernel-sizes.ipynb\n",
    "#\n",
    "# Bryan Daniels\n",
    "# 2024/1/4\n",
    "#\n",
    "# Can we use basin sizes to better predict control kernel sizes?\n",
    "#\n",
    "# An outgrowth from cell-collective-basin-entropy.ipynb"
   ]
  },
  {
   "cell_type": "code",
   "execution_count": 37,
   "id": "1b60f436",
   "metadata": {},
   "outputs": [],
   "source": [
    "import glob\n",
    "import pandas as pd\n",
    "import numpy as np\n",
    "import matplotlib.pyplot as plt\n",
    "from toolbox.simplePickle import load"
   ]
  },
  {
   "cell_type": "code",
   "execution_count": 25,
   "id": "2af16999",
   "metadata": {},
   "outputs": [],
   "source": [
    "# useful code for dealing with cell collective networks from from code/cellCollective.py\n",
    "def directory_name(n_name):\n",
    "    \"\"\"\n",
    "    Returns the name of the Cell Collective directory given\n",
    "    the \"nice\" name with spaces\n",
    "    \"\"\"\n",
    "    return n_name.replace(' ','_').replace('.','')\n",
    "    \n",
    "def nice_name(dir_name):\n",
    "    \"\"\"\n",
    "    Returns the \"nice\" name of the Cell Collective network\n",
    "    given the directory name\n",
    "    \"\"\"\n",
    "    nice = dir_name.replace('_',' ')\n",
    "    if nice == 'Iron Acquisition And Oxidative Stress Response In Aspergillus Fumigatus':\n",
    "        nice = nice+'.'\n",
    "    return nice"
   ]
  },
  {
   "cell_type": "markdown",
   "id": "28d77634",
   "metadata": {},
   "source": [
    "# Load existing data"
   ]
  },
  {
   "cell_type": "markdown",
   "id": "ff2adaec",
   "metadata": {},
   "source": [
    "### Load Cell Collective control kernel data from 2021 paper"
   ]
  },
  {
   "cell_type": "code",
   "execution_count": 21,
   "id": "b7f00af1",
   "metadata": {},
   "outputs": [
    {
     "name": "stdout",
     "output_type": "stream",
     "text": [
      "We have exact control kernel data for 44 networks.\n"
     ]
    }
   ],
   "source": [
    "control_kernel_data_file = '/Users/bdaniel6/ASUDropbox/Research/grn-survey/Writeups/control-kernel-2020/'\\\n",
    "    'Nature Comm final revision Aug 2021/zenodo Aug 2021/20200820_control_kernel_supplemental_info.csv'\n",
    "ck_df = pd.read_csv(control_kernel_data_file).set_index('name')\n",
    "\n",
    "# include expected average ck size and difference from expected\n",
    "ck_df['expected mean control kernel size'] = np.log2(ck_df['number of attractors'])\n",
    "ck_df['difference from expected mean control kernel size'] = \\\n",
    "    ck_df['mean control kernel size'] - ck_df['expected mean control kernel size']\n",
    "\n",
    "print(\"We have exact control kernel data for {} networks.\".format((1-ck_df['uses sampling method']).sum()))"
   ]
  },
  {
   "cell_type": "markdown",
   "id": "c09c53bc",
   "metadata": {},
   "source": [
    "### Load basin data from newer Cell Collective runs"
   ]
  },
  {
   "cell_type": "code",
   "execution_count": 9,
   "id": "f7d8f1f4",
   "metadata": {},
   "outputs": [],
   "source": [
    "datadir = '../code/'"
   ]
  },
  {
   "cell_type": "code",
   "execution_count": 11,
   "id": "7584d77b",
   "metadata": {},
   "outputs": [
    {
     "data": {
      "text/html": [
       "<div>\n",
       "<style scoped>\n",
       "    .dataframe tbody tr th:only-of-type {\n",
       "        vertical-align: middle;\n",
       "    }\n",
       "\n",
       "    .dataframe tbody tr th {\n",
       "        vertical-align: top;\n",
       "    }\n",
       "\n",
       "    .dataframe thead th {\n",
       "        text-align: right;\n",
       "    }\n",
       "</style>\n",
       "<table border=\"1\" class=\"dataframe\">\n",
       "  <thead>\n",
       "    <tr style=\"text-align: right;\">\n",
       "      <th></th>\n",
       "      <th>network_size</th>\n",
       "      <th>num_states</th>\n",
       "      <th>num_samples</th>\n",
       "      <th>num_attractors</th>\n",
       "      <th>basin_entropy_NSB</th>\n",
       "      <th>std_basin_entropy_NSB</th>\n",
       "      <th>elapsed_time</th>\n",
       "    </tr>\n",
       "    <tr>\n",
       "      <th>name</th>\n",
       "      <th></th>\n",
       "      <th></th>\n",
       "      <th></th>\n",
       "      <th></th>\n",
       "      <th></th>\n",
       "      <th></th>\n",
       "      <th></th>\n",
       "    </tr>\n",
       "  </thead>\n",
       "  <tbody>\n",
       "    <tr>\n",
       "      <th>Budding_Yeast_Cell_Cycle</th>\n",
       "      <td>20</td>\n",
       "      <td>1048576</td>\n",
       "      <td>10000</td>\n",
       "      <td>33</td>\n",
       "      <td>4.692749</td>\n",
       "      <td>0.008449</td>\n",
       "      <td>0:00:18.083787</td>\n",
       "    </tr>\n",
       "    <tr>\n",
       "      <th>Mammalian_Cell_Cycle</th>\n",
       "      <td>20</td>\n",
       "      <td>1048576</td>\n",
       "      <td>10000</td>\n",
       "      <td>3</td>\n",
       "      <td>1.014787</td>\n",
       "      <td>0.003261</td>\n",
       "      <td>0:00:02.020575</td>\n",
       "    </tr>\n",
       "    <tr>\n",
       "      <th>HCC1954_Breast_Cell_Line_Long-term_ErbB_Network</th>\n",
       "      <td>25</td>\n",
       "      <td>33554432</td>\n",
       "      <td>10000</td>\n",
       "      <td>9452</td>\n",
       "      <td>8.269992</td>\n",
       "      <td>0.021576</td>\n",
       "      <td>0:11:16.461616</td>\n",
       "    </tr>\n",
       "    <tr>\n",
       "      <th>Cortical_Area_Development</th>\n",
       "      <td>5</td>\n",
       "      <td>32</td>\n",
       "      <td>10000</td>\n",
       "      <td>2</td>\n",
       "      <td>0.568464</td>\n",
       "      <td>0.155180</td>\n",
       "      <td>0:00:00.808031</td>\n",
       "    </tr>\n",
       "    <tr>\n",
       "      <th>B_Cell_Differentiation</th>\n",
       "      <td>22</td>\n",
       "      <td>4194304</td>\n",
       "      <td>10000</td>\n",
       "      <td>61</td>\n",
       "      <td>5.440223</td>\n",
       "      <td>0.008863</td>\n",
       "      <td>0:00:04.590949</td>\n",
       "    </tr>\n",
       "  </tbody>\n",
       "</table>\n",
       "</div>"
      ],
      "text/plain": [
       "                                                 network_size  num_states  \\\n",
       "name                                                                        \n",
       "Budding_Yeast_Cell_Cycle                                   20     1048576   \n",
       "Mammalian_Cell_Cycle                                       20     1048576   \n",
       "HCC1954_Breast_Cell_Line_Long-term_ErbB_Network            25    33554432   \n",
       "Cortical_Area_Development                                   5          32   \n",
       "B_Cell_Differentiation                                     22     4194304   \n",
       "\n",
       "                                                 num_samples  num_attractors  \\\n",
       "name                                                                           \n",
       "Budding_Yeast_Cell_Cycle                               10000              33   \n",
       "Mammalian_Cell_Cycle                                   10000               3   \n",
       "HCC1954_Breast_Cell_Line_Long-term_ErbB_Network        10000            9452   \n",
       "Cortical_Area_Development                              10000               2   \n",
       "B_Cell_Differentiation                                 10000              61   \n",
       "\n",
       "                                                 basin_entropy_NSB  \\\n",
       "name                                                                 \n",
       "Budding_Yeast_Cell_Cycle                                  4.692749   \n",
       "Mammalian_Cell_Cycle                                      1.014787   \n",
       "HCC1954_Breast_Cell_Line_Long-term_ErbB_Network           8.269992   \n",
       "Cortical_Area_Development                                 0.568464   \n",
       "B_Cell_Differentiation                                    5.440223   \n",
       "\n",
       "                                                 std_basin_entropy_NSB  \\\n",
       "name                                                                     \n",
       "Budding_Yeast_Cell_Cycle                                      0.008449   \n",
       "Mammalian_Cell_Cycle                                          0.003261   \n",
       "HCC1954_Breast_Cell_Line_Long-term_ErbB_Network               0.021576   \n",
       "Cortical_Area_Development                                     0.155180   \n",
       "B_Cell_Differentiation                                        0.008863   \n",
       "\n",
       "                                                   elapsed_time  \n",
       "name                                                             \n",
       "Budding_Yeast_Cell_Cycle                         0:00:18.083787  \n",
       "Mammalian_Cell_Cycle                             0:00:02.020575  \n",
       "HCC1954_Breast_Cell_Line_Long-term_ErbB_Network  0:11:16.461616  \n",
       "Cortical_Area_Development                        0:00:00.808031  \n",
       "B_Cell_Differentiation                           0:00:04.590949  "
      ]
     },
     "execution_count": 11,
     "metadata": {},
     "output_type": "execute_result"
    }
   ],
   "source": [
    "# concatenate all csv file data\n",
    "df_list = []\n",
    "for filename in glob.glob(datadir+'basin_entropy_data*.csv'):\n",
    "    df_single = pd.read_csv(filename)\n",
    "    df_list.append(df_single)\n",
    "df = pd.concat(df_list).set_index('name')\n",
    "#df = df.apply(pd.to_numeric,errors='coerce')\n",
    "# make everything numeric except for \"elapsed_time\"\n",
    "numeric_cols = df.columns[df.columns != 'elapsed_time']\n",
    "df[numeric_cols] = df[numeric_cols].apply(pd.to_numeric,errors='coerce')\n",
    "df.head()"
   ]
  },
  {
   "cell_type": "code",
   "execution_count": 13,
   "id": "ab24e94e",
   "metadata": {},
   "outputs": [
    {
     "name": "stdout",
     "output_type": "stream",
     "text": [
      "We have sampled basin data for 34 networks.\n"
     ]
    }
   ],
   "source": [
    "print(\"We have sampled basin data for {} networks.\".format(len(df)))"
   ]
  },
  {
   "cell_type": "code",
   "execution_count": 16,
   "id": "c201a6c1",
   "metadata": {},
   "outputs": [],
   "source": [
    "# gather all detailed basin data into a dictionary\n",
    "basinDataDict = {}\n",
    "for name in df.index:\n",
    "    data = load('{}basin_entropy_data_{}.pkl'.format(datadir,name))\n",
    "    basinDataDict[name] = data"
   ]
  },
  {
   "cell_type": "code",
   "execution_count": 28,
   "id": "222ca2f2",
   "metadata": {},
   "outputs": [
    {
     "name": "stdout",
     "output_type": "stream",
     "text": [
      "There are 49 networks with CK data, 34 with basin entropy data, and 15 missing.\n"
     ]
    }
   ],
   "source": [
    "# find missing networks \n",
    "done_names = [ nice_name(name) for name in df.index ]\n",
    "not_done_names = set(ck_df.index) - set(done_names)\n",
    "\n",
    "print(\"There are {} networks with CK data, {} with basin entropy data, and {} missing.\".format(\n",
    "    len(ck_df),len(done_names),len(not_done_names)))"
   ]
  },
  {
   "cell_type": "code",
   "execution_count": 27,
   "id": "f3dfea85",
   "metadata": {},
   "outputs": [
    {
     "data": {
      "text/plain": [
       "{'Arabidopsis Thaliana Cell Cycle',\n",
       " 'Bordetella Bronchiseptica',\n",
       " 'Budding Yeast Cell Cycle 2009',\n",
       " 'Cholesterol Regulatory Pathway',\n",
       " 'FA BRCA Pathway',\n",
       " 'Fanconi Anemia And Checkpoint Recovery',\n",
       " 'Guard Cell Abscisic Acid Signaling',\n",
       " 'Lymphoid And Myeloid Cell Specification And Transdifferentiation',\n",
       " 'Mammalian Cell Cycle 2006',\n",
       " 'Pc12 Cell Differentiation',\n",
       " 'Septation Initiation Network',\n",
       " 'T-Cell Signaling 2006',\n",
       " 'Treatment Of Castration-Resistant Prostate Cancer',\n",
       " 'Tumour Cell Invasion And Migration',\n",
       " 'Yeast Apoptosis'}"
      ]
     },
     "execution_count": 27,
     "metadata": {},
     "output_type": "execute_result"
    }
   ],
   "source": [
    "not_done_names"
   ]
  },
  {
   "cell_type": "markdown",
   "id": "8b9ab806",
   "metadata": {},
   "source": [
    "### Also manually include basin data and control data for \"counterexample\" networks"
   ]
  },
  {
   "cell_type": "code",
   "execution_count": 77,
   "id": "c8ddd073",
   "metadata": {},
   "outputs": [],
   "source": [
    "# manually inputting data from the \"seven_weirdos\" file (actually 9 networks)\n",
    "names = ['Net 16','Net 20','Net 30','Net 35','Net 40','Net 45','Net 46a','Net 46b','Net 70']\n",
    "net_sizes = [10,10,15,15,15,15,15,15,20]\n",
    "basin_sizes = [ [600,422,1,1],\n",
    "                [1023,1],\n",
    "                [16384,8192,4088,4088,1,1,1,1,1,1,1,1,1,1,1,1,1,1,1,1],\n",
    "                [32767,1],\n",
    "                [32766,1,1],\n",
    "                [32767,1],\n",
    "                [23054,5630,4083,1],\n",
    "                [32766,1,1],\n",
    "                [358134,277682,243000,169758,1,1]\n",
    "              ]\n",
    "ck_sizes = [ [1,2,8,10],\n",
    "             [1,10],\n",
    "             [1,2,4,4,14,14,15,14,14,14,14,14,14,15,15,15,15,15,15,15],\n",
    "             [1,15],\n",
    "             [1,15,15],\n",
    "             [1,15],\n",
    "             [1,2,4,15],\n",
    "             [np.nan,5,5],\n",
    "             [2,3,2,2,20,20]\n",
    "           ]\n",
    "# checks\n",
    "for lst in [names,basin_sizes,ck_sizes,net_sizes]:\n",
    "    assert(len(lst)==9)\n",
    "for basins,cks in zip(basin_sizes,ck_sizes):\n",
    "    assert(len(basins)==len(cks))"
   ]
  },
  {
   "cell_type": "code",
   "execution_count": 78,
   "id": "6eb53b0f",
   "metadata": {},
   "outputs": [
    {
     "data": {
      "text/plain": [
       "[5.25, 5.5, 12.15, 8.0, 10.333333333333334, 8.0, 5.5, 5.0, 8.166666666666666]"
      ]
     },
     "execution_count": 78,
     "metadata": {},
     "output_type": "execute_result"
    }
   ],
   "source": [
    "[np.nanmean(ck_size) for ck_size in ck_sizes]"
   ]
  },
  {
   "cell_type": "code",
   "execution_count": 81,
   "id": "a787587b",
   "metadata": {},
   "outputs": [],
   "source": [
    "for i,name in enumerate(names):\n",
    "    # store basin data in basinDataDict\n",
    "    basinDataDict[name] = {'name':name,\n",
    "                           'network_size':net_sizes[i],\n",
    "                           'sampled_basin_freqs':basin_sizes[i],\n",
    "                          }\n",
    "    \n",
    "    # store mean control kernel data in ck_df\n",
    "    ck_df.loc[name,'size'] = net_sizes[i]\n",
    "    ck_df.loc[name,'mean control kernel size'] = np.nanmean(ck_sizes[i])\n",
    "    ck_df.loc[name,'number of attractors'] = len(ck_sizes[i])\n",
    "    ck_df.loc[name,'number of attractors with control kernel'] = np.sum(~np.isnan(ck_sizes[i]))\n",
    "    ck_df.loc[name,'number of uncontrollable attractors'] = np.sum(np.isnan(ck_sizes[i]))\n",
    "    ck_df.loc[name,'expected mean control kernel size'] = np.log2(ck_df.loc[name,'number of attractors'])\n",
    "    ck_df.loc[name,'difference from expected mean control kernel size'] = \\\n",
    "        ck_df.loc[name,'mean control kernel size'] - ck_df.loc[name,'expected mean control kernel size']"
   ]
  },
  {
   "cell_type": "markdown",
   "id": "3db54b8c",
   "metadata": {},
   "source": [
    "# Define and test functions to predict control kernel sizes from basin sizes"
   ]
  },
  {
   "cell_type": "code",
   "execution_count": 83,
   "id": "a54daf1f",
   "metadata": {},
   "outputs": [],
   "source": [
    "def samples_to_freqs(samples,laplace=True):\n",
    "    total_samples = np.sum(samples)\n",
    "    if laplace:\n",
    "        freqs = (np.array(samples) + 1)/(total_samples + len(samples))\n",
    "    else:\n",
    "        freqs = np.array(samples)/total_samples\n",
    "    return freqs"
   ]
  },
  {
   "cell_type": "code",
   "execution_count": 98,
   "id": "2538142f",
   "metadata": {},
   "outputs": [],
   "source": [
    "# define functions for estimating average control kernel size\n",
    "\n",
    "# just log2(r)\n",
    "def predict_ck_simple(basin_sizes,n):\n",
    "    num_attractors = len(basin_sizes)\n",
    "    return np.log2(num_attractors)\n",
    "\n",
    "# rough loglinear fit taken from cell-collective-basin-entropy.ipynb\n",
    "def predict_ck_loglinear(basin_sizes,n,laplace=True):\n",
    "    num_attractors = len(basin_sizes)\n",
    "    freqs = samples_to_freqs(basin_sizes,laplace=laplace)\n",
    "        \n",
    "    relative_corrections = 0.3-0.1*np.log(freqs)\n",
    "    predicted_cks = np.log2(num_attractors)*relative_corrections\n",
    "\n",
    "    return np.mean(predicted_cks)\n",
    "\n",
    "# n when basin size is 1, log2(r) otherwise\n",
    "def predict_ck_separate_unstable(basin_sizes,n):\n",
    "    num_attractors = len(basin_sizes)\n",
    "    num_unstable = np.sum(np.array(basin_sizes)==1)\n",
    "    return np.log2(num_attractors) + (n-np.log2(num_attractors))*num_unstable/num_attractors"
   ]
  },
  {
   "cell_type": "code",
   "execution_count": 99,
   "id": "e7148abf",
   "metadata": {},
   "outputs": [],
   "source": [
    "# calculate the predicted mean control kernel sizes and store them in ck_df\n",
    "functions_to_test = [predict_ck_simple,\n",
    "                     predict_ck_loglinear,\n",
    "                     predict_ck_separate_unstable,]\n",
    "for ck_func in functions_to_test:\n",
    "    ck_df[ck_func.__name__] = np.nan*np.zeros(len(ck_df))\n",
    "    for name in basinDataDict.keys():\n",
    "        basin_samples = basinDataDict[name]['sampled_basin_freqs']\n",
    "        n = basinDataDict[name]['network_size']\n",
    "        predicted_CK = ck_func(basin_samples,n)\n",
    "        ck_df.loc[nice_name(name),ck_func.__name__] = predicted_CK"
   ]
  },
  {
   "cell_type": "code",
   "execution_count": 100,
   "id": "dc94a8f6",
   "metadata": {},
   "outputs": [
    {
     "data": {
      "text/plain": [
       "<matplotlib.legend.Legend at 0x7fc2f82c3b20>"
      ]
     },
     "execution_count": 100,
     "metadata": {},
     "output_type": "execute_result"
    },
    {
     "data": {
      "image/png": "[encoded data removed]",
      "text/plain": [
       "<Figure size 640x480 with 1 Axes>"
      ]
     },
     "metadata": {},
     "output_type": "display_data"
    }
   ],
   "source": [
    "# plot predicted versus actual mean control kernel size\n",
    "\n",
    "plt.scatter([],[]) # dummy plot to make colors match up with next plot\n",
    "for ck_func in functions_to_test:\n",
    "    plt.scatter(ck_df[ck_func.__name__],\n",
    "                ck_df['mean control kernel size'],\n",
    "                label=ck_func.__name__,\n",
    "                s=20)\n",
    "\n",
    "plt.xlabel('Predicted mean control kernel size')\n",
    "plt.ylabel('Mean control kernel size')\n",
    "minsize,maxsize = 0,20\n",
    "plt.plot([minsize,maxsize],[minsize,maxsize],'k--',lw=0.5,zorder=-10)\n",
    "plt.axis(xmin=minsize,xmax=maxsize,ymin=minsize,ymax=maxsize)\n",
    "plt.legend()"
   ]
  },
  {
   "cell_type": "code",
   "execution_count": 101,
   "id": "2c90f624",
   "metadata": {},
   "outputs": [
    {
     "data": {
      "text/plain": [
       "<matplotlib.legend.Legend at 0x7fc33a6bbeb0>"
      ]
     },
     "execution_count": 101,
     "metadata": {},
     "output_type": "execute_result"
    },
    {
     "data": {
      "image/png": "[encoded data removed]",
      "text/plain": [
       "<Figure size 640x480 with 1 Axes>"
      ]
     },
     "metadata": {},
     "output_type": "display_data"
    }
   ],
   "source": [
    "# plot with respect to the number of attractors\n",
    "\n",
    "plt.scatter(ck_df['number of attractors'],\n",
    "            ck_df['mean control kernel size'],\n",
    "            s=20,\n",
    "            label='Actual CK size')\n",
    "\n",
    "for ck_func in functions_to_test:\n",
    "    plt.scatter(ck_df['number of attractors'],\n",
    "                ck_df[ck_func.__name__],\n",
    "                label=ck_func.__name__,\n",
    "                s=20)\n",
    "\n",
    "plt.xlabel('Number of attractors')\n",
    "plt.ylabel('Predicted mean control kernel size')\n",
    "plt.xscale('log')\n",
    "plt.legend()"
   ]
  },
  {
   "cell_type": "code",
   "execution_count": null,
   "id": "ed599835",
   "metadata": {},
   "outputs": [],
   "source": []
  }
 ],
 "metadata": {
  "kernelspec": {
   "display_name": "Python 3 (ipykernel)",
   "language": "python",
   "name": "python3"
  },
  "language_info": {
   "codemirror_mode": {
    "name": "ipython",
    "version": 3
   },
   "file_extension": ".py",
   "mimetype": "text/x-python",
   "name": "python",
   "nbconvert_exporter": "python",
   "pygments_lexer": "ipython3",
   "version": "3.9.16"
  }
 },
 "nbformat": 4,
 "nbformat_minor": 5
}

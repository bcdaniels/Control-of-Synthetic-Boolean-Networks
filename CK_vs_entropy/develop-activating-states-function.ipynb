{
 "cells": [
  {
   "cell_type": "code",
   "execution_count": null,
   "id": "e26755b2",
   "metadata": {},
   "outputs": [],
   "source": [
    "# develop-activating-states-function.ipynb\n",
    "#\n",
    "# Bryan Daniels\n",
    "# 2024/1/8\n",
    "#\n",
    "# As part of an effort to find all basins of size 1, we need a function that takes a \n",
    "# Neet network and a node index and produces the states that activate or deactivate \n",
    "# that node.\n",
    "#"
   ]
  },
  {
   "cell_type": "markdown",
   "id": "fa013eb8",
   "metadata": {},
   "source": [
    "For `LogicNetwork`s, this is easy, because we already store the network's logic table in a similar format."
   ]
  },
  {
   "cell_type": "markdown",
   "id": "2ad1a24a",
   "metadata": {},
   "source": [
    "For `WTNetwork`s, we will just want to analyze all possible states of each node's inputs."
   ]
  },
  {
   "cell_type": "code",
   "execution_count": 1,
   "id": "7df5ee61",
   "metadata": {},
   "outputs": [],
   "source": [
    "from neet import UniformSpace\n",
    "\n",
    "def activating_states(net,node_index,activate=True):\n",
    "    \"\"\"\n",
    "    Returns the states that activate or deactivate a given node in a Neet network.\n",
    "    \n",
    "    Returns: (neighbors_tuple,conditions),\n",
    "    where node_tuple is a sorted tuple of node indices on which the given node depends, \n",
    "    and conditions is a tuple of binary states that activate the given node\n",
    "    (or deactivate the given node if activate=False)\n",
    "    \"\"\"\n",
    "    neighbors_list = tuple(sorted(net.neighbors_in(node_index)))\n",
    "    conditions = []\n",
    "    default_state = [ 0 for i in range(net.size) ] # states to which other non-input nodes are set\n",
    "    input_space = UniformSpace(len(neighbors_list),2) # create binary input space\n",
    "    for reduced_state in input_space:\n",
    "        \n",
    "        # set starting state to have given values for input nodes\n",
    "        full_state = default_state.copy()\n",
    "        for i,neighbor in enumerate(neighbors_list):\n",
    "            full_state[neighbor] = reduced_state[i]\n",
    "        \n",
    "        # check whether this state is activating for node_index\n",
    "        if net.update(full_state)[node_index] == activate:\n",
    "            conditions.append(tuple(reduced_state))\n",
    "            \n",
    "    return neighbors_list,tuple(conditions)"
   ]
  },
  {
   "cell_type": "markdown",
   "id": "c8d6b07e",
   "metadata": {},
   "source": [
    "### checks"
   ]
  },
  {
   "cell_type": "code",
   "execution_count": 2,
   "id": "489c0ab0",
   "metadata": {},
   "outputs": [],
   "source": [
    "# load/create some example networks\n",
    "from neet.boolean.examples import mouse_cortical_7B # a logic network\n",
    "from neet.boolean.examples import c_elegans # a weight-threshold network\n",
    "from neet.boolean.examples import hgf_signaling_in_keratinocytes # a larger logic network\n",
    "from neet.boolean import LogicNetwork\n",
    "test_table = [((1,0),{'10','11'}),\n",
    "              ((1,),{'1'})]\n",
    "test_net = LogicNetwork(test_table)"
   ]
  },
  {
   "cell_type": "code",
   "execution_count": 3,
   "id": "f9ccabe8",
   "metadata": {},
   "outputs": [],
   "source": [
    "import numpy as np\n",
    "\n",
    "# check that the sum of activating and deactivating states is 2^(number of inputs)\n",
    "def check_sum(net):\n",
    "    for i in range(net.size):\n",
    "        neighbors,act_conditions = activating_states(net,i,True)\n",
    "        neighbors,deact_conditions = activating_states(net,i,False)\n",
    "        assert(len(act_conditions) + len(deact_conditions) == 2**(len(neighbors)))\n",
    "        \n",
    "# check that a logic table network has the same inputs and activating conditions\n",
    "def check_logic(net):\n",
    "    for i in range(net.size):\n",
    "        neighbors,act_conditions = activating_states(net,i)\n",
    "        \n",
    "        # check that neighbors are the same\n",
    "        assert(tuple(sorted(net.table[i][0])) == neighbors)\n",
    "        \n",
    "        # check that length of activating conditions is the same\n",
    "        assert(len(net.table[i][1]) == len(act_conditions))\n",
    "        \n",
    "        # check that activating conditions are the same\n",
    "        if len(neighbors) > 0:\n",
    "            table_conditions = [ np.array([int(val) for val in list(condition)]) for condition in net.table[i][1] ]\n",
    "            sorted_table_conditions = [ tuple(condition[np.argsort(net.table[i][0])]) \\\n",
    "                                             for condition in table_conditions ]\n",
    "            assert(set(sorted_table_conditions) == set(act_conditions))"
   ]
  },
  {
   "cell_type": "code",
   "execution_count": 4,
   "id": "f9e268ab",
   "metadata": {},
   "outputs": [],
   "source": [
    "check_sum(c_elegans)\n",
    "check_sum(mouse_cortical_7B)\n",
    "check_sum(hgf_signaling_in_keratinocytes)\n",
    "check_sum(test_net)"
   ]
  },
  {
   "cell_type": "code",
   "execution_count": 5,
   "id": "dc53d98e",
   "metadata": {},
   "outputs": [],
   "source": [
    "check_logic(mouse_cortical_7B)\n",
    "check_logic(hgf_signaling_in_keratinocytes)\n",
    "check_logic(test_net)"
   ]
  },
  {
   "cell_type": "code",
   "execution_count": 6,
   "id": "7e48e896",
   "metadata": {},
   "outputs": [
    {
     "data": {
      "text/plain": [
       "[((9,), {'1'}),\n",
       " ((5, 7), {'00'}),\n",
       " ((5, 8), {'10'}),\n",
       " ((5, 7, 9), {'000'}),\n",
       " ((8, 6), {'00'}),\n",
       " ((0,), {'1'}),\n",
       " ((1,), {'1'}),\n",
       " ((2,), {'1'}),\n",
       " ((3,), {'1'}),\n",
       " ((4,), {'1'})]"
      ]
     },
     "execution_count": 6,
     "metadata": {},
     "output_type": "execute_result"
    }
   ],
   "source": [
    "mouse_cortical_7B.table"
   ]
  },
  {
   "cell_type": "code",
   "execution_count": 7,
   "id": "04097c0d",
   "metadata": {},
   "outputs": [
    {
     "data": {
      "text/plain": [
       "((5, 7), ((0, 0),))"
      ]
     },
     "execution_count": 7,
     "metadata": {},
     "output_type": "execute_result"
    }
   ],
   "source": [
    "activating_states(mouse_cortical_7B,1,True)"
   ]
  },
  {
   "cell_type": "code",
   "execution_count": 8,
   "id": "0a9b8a8e",
   "metadata": {},
   "outputs": [
    {
     "data": {
      "text/plain": [
       "((33, 40, 43),\n",
       " ((1, 0, 0), (0, 1, 0), (1, 1, 0), (0, 0, 1), (1, 0, 1), (0, 1, 1), (1, 1, 1)))"
      ]
     },
     "execution_count": 8,
     "metadata": {},
     "output_type": "execute_result"
    }
   ],
   "source": [
    "activating_states(hgf_signaling_in_keratinocytes,0)"
   ]
  },
  {
   "cell_type": "code",
   "execution_count": 9,
   "id": "d184fb9c",
   "metadata": {},
   "outputs": [
    {
     "data": {
      "text/plain": [
       "((0, 1), ((0, 1), (1, 1)))"
      ]
     },
     "execution_count": 9,
     "metadata": {},
     "output_type": "execute_result"
    }
   ],
   "source": [
    "activating_states(test_net,0)"
   ]
  },
  {
   "cell_type": "code",
   "execution_count": null,
   "id": "3be90514",
   "metadata": {},
   "outputs": [],
   "source": []
  }
 ],
 "metadata": {
  "kernelspec": {
   "display_name": "Python 3 (ipykernel)",
   "language": "python",
   "name": "python3"
  },
  "language_info": {
   "codemirror_mode": {
    "name": "ipython",
    "version": 3
   },
   "file_extension": ".py",
   "mimetype": "text/x-python",
   "name": "python",
   "nbconvert_exporter": "python",
   "pygments_lexer": "ipython3",
   "version": "3.9.16"
  }
 },
 "nbformat": 4,
 "nbformat_minor": 5
}

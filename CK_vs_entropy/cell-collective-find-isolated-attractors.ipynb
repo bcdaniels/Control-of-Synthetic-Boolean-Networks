{
 "cells": [
  {
   "cell_type": "code",
   "execution_count": null,
   "id": "7ceca221",
   "metadata": {},
   "outputs": [],
   "source": [
    "# cell-collective-find-isolated-attractors.ipynb\n",
    "#\n",
    "# Bryan Daniels, Enrico Borriello\n",
    "# 2024/1/10\n",
    "#\n",
    "# Find and count the number of attractors with basin size 1 in cell collective networks\n",
    "# (using the preimage function).\n",
    "#"
   ]
  },
  {
   "cell_type": "code",
   "execution_count": 56,
   "id": "f7afb182",
   "metadata": {},
   "outputs": [],
   "source": [
    "import glob\n",
    "import pandas as pd\n",
    "import numpy as np\n",
    "import matplotlib.pyplot as plt\n",
    "from toolbox.simplePickle import load"
   ]
  },
  {
   "cell_type": "code",
   "execution_count": 52,
   "id": "7b120236",
   "metadata": {},
   "outputs": [],
   "source": [
    "# useful code for dealing with cell collective networks from from code/cellCollective.py\n",
    "def directory_name(n_name):\n",
    "    \"\"\"\n",
    "    Returns the name of the Cell Collective directory given\n",
    "    the \"nice\" name with spaces\n",
    "    \"\"\"\n",
    "    return n_name.replace(' ','_').replace('.','')\n",
    "    \n",
    "def nice_name(dir_name):\n",
    "    \"\"\"\n",
    "    Returns the \"nice\" name of the Cell Collective network\n",
    "    given the directory name\n",
    "    \"\"\"\n",
    "    nice = dir_name.replace('_',' ')\n",
    "    if nice == 'Iron Acquisition And Oxidative Stress Response In Aspergillus Fumigatus':\n",
    "        nice = nice+'.'\n",
    "    return nice"
   ]
  },
  {
   "cell_type": "markdown",
   "id": "0e47b2fe",
   "metadata": {},
   "source": [
    "### Load Cell Collective control kernel data from 2021 paper"
   ]
  },
  {
   "cell_type": "code",
   "execution_count": 12,
   "id": "a6ff46c1",
   "metadata": {},
   "outputs": [
    {
     "name": "stdout",
     "output_type": "stream",
     "text": [
      "We have exact control kernel data for 44 networks.\n"
     ]
    }
   ],
   "source": [
    "control_kernel_data_file = '/Users/bdaniel6/ASUDropbox/Research/grn-survey/Writeups/control-kernel-2020/'\\\n",
    "    'Nature Comm final revision Aug 2021/zenodo Aug 2021/20200820_control_kernel_supplemental_info.csv'\n",
    "ck_df = pd.read_csv(control_kernel_data_file).set_index('name')\n",
    "\n",
    "# include expected average ck size and difference from expected\n",
    "ck_df['expected mean control kernel size'] = np.log2(ck_df['number of attractors'])\n",
    "ck_df['difference from expected mean control kernel size'] = \\\n",
    "    ck_df['mean control kernel size'] - ck_df['expected mean control kernel size']\n",
    "\n",
    "print(\"We have exact control kernel data for {} networks.\".format((1-ck_df['uses sampling method']).sum()))"
   ]
  },
  {
   "cell_type": "markdown",
   "id": "7a956441",
   "metadata": {},
   "source": [
    "### Load basin data from newer Cell Collective runs"
   ]
  },
  {
   "cell_type": "code",
   "execution_count": 5,
   "id": "f356a6f4",
   "metadata": {},
   "outputs": [],
   "source": [
    "datadir = '../code/'"
   ]
  },
  {
   "cell_type": "code",
   "execution_count": 6,
   "id": "de5bacc4",
   "metadata": {},
   "outputs": [
    {
     "data": {
      "text/html": [
       "<div>\n",
       "<style scoped>\n",
       "    .dataframe tbody tr th:only-of-type {\n",
       "        vertical-align: middle;\n",
       "    }\n",
       "\n",
       "    .dataframe tbody tr th {\n",
       "        vertical-align: top;\n",
       "    }\n",
       "\n",
       "    .dataframe thead th {\n",
       "        text-align: right;\n",
       "    }\n",
       "</style>\n",
       "<table border=\"1\" class=\"dataframe\">\n",
       "  <thead>\n",
       "    <tr style=\"text-align: right;\">\n",
       "      <th></th>\n",
       "      <th>network_size</th>\n",
       "      <th>num_states</th>\n",
       "      <th>num_samples</th>\n",
       "      <th>num_attractors</th>\n",
       "      <th>basin_entropy_NSB</th>\n",
       "      <th>std_basin_entropy_NSB</th>\n",
       "      <th>elapsed_time</th>\n",
       "    </tr>\n",
       "    <tr>\n",
       "      <th>name</th>\n",
       "      <th></th>\n",
       "      <th></th>\n",
       "      <th></th>\n",
       "      <th></th>\n",
       "      <th></th>\n",
       "      <th></th>\n",
       "      <th></th>\n",
       "    </tr>\n",
       "  </thead>\n",
       "  <tbody>\n",
       "    <tr>\n",
       "      <th>Budding_Yeast_Cell_Cycle</th>\n",
       "      <td>20</td>\n",
       "      <td>1048576</td>\n",
       "      <td>10000</td>\n",
       "      <td>33</td>\n",
       "      <td>4.692749</td>\n",
       "      <td>0.008449</td>\n",
       "      <td>0:00:18.083787</td>\n",
       "    </tr>\n",
       "    <tr>\n",
       "      <th>Mammalian_Cell_Cycle</th>\n",
       "      <td>20</td>\n",
       "      <td>1048576</td>\n",
       "      <td>10000</td>\n",
       "      <td>3</td>\n",
       "      <td>1.014787</td>\n",
       "      <td>0.003261</td>\n",
       "      <td>0:00:02.020575</td>\n",
       "    </tr>\n",
       "    <tr>\n",
       "      <th>HCC1954_Breast_Cell_Line_Long-term_ErbB_Network</th>\n",
       "      <td>25</td>\n",
       "      <td>33554432</td>\n",
       "      <td>10000</td>\n",
       "      <td>9452</td>\n",
       "      <td>8.269992</td>\n",
       "      <td>0.021576</td>\n",
       "      <td>0:11:16.461616</td>\n",
       "    </tr>\n",
       "    <tr>\n",
       "      <th>Cortical_Area_Development</th>\n",
       "      <td>5</td>\n",
       "      <td>32</td>\n",
       "      <td>10000</td>\n",
       "      <td>2</td>\n",
       "      <td>0.568464</td>\n",
       "      <td>0.155180</td>\n",
       "      <td>0:00:00.808031</td>\n",
       "    </tr>\n",
       "    <tr>\n",
       "      <th>B_Cell_Differentiation</th>\n",
       "      <td>22</td>\n",
       "      <td>4194304</td>\n",
       "      <td>10000</td>\n",
       "      <td>61</td>\n",
       "      <td>5.440223</td>\n",
       "      <td>0.008863</td>\n",
       "      <td>0:00:04.590949</td>\n",
       "    </tr>\n",
       "  </tbody>\n",
       "</table>\n",
       "</div>"
      ],
      "text/plain": [
       "                                                 network_size  num_states  \\\n",
       "name                                                                        \n",
       "Budding_Yeast_Cell_Cycle                                   20     1048576   \n",
       "Mammalian_Cell_Cycle                                       20     1048576   \n",
       "HCC1954_Breast_Cell_Line_Long-term_ErbB_Network            25    33554432   \n",
       "Cortical_Area_Development                                   5          32   \n",
       "B_Cell_Differentiation                                     22     4194304   \n",
       "\n",
       "                                                 num_samples  num_attractors  \\\n",
       "name                                                                           \n",
       "Budding_Yeast_Cell_Cycle                               10000              33   \n",
       "Mammalian_Cell_Cycle                                   10000               3   \n",
       "HCC1954_Breast_Cell_Line_Long-term_ErbB_Network        10000            9452   \n",
       "Cortical_Area_Development                              10000               2   \n",
       "B_Cell_Differentiation                                 10000              61   \n",
       "\n",
       "                                                 basin_entropy_NSB  \\\n",
       "name                                                                 \n",
       "Budding_Yeast_Cell_Cycle                                  4.692749   \n",
       "Mammalian_Cell_Cycle                                      1.014787   \n",
       "HCC1954_Breast_Cell_Line_Long-term_ErbB_Network           8.269992   \n",
       "Cortical_Area_Development                                 0.568464   \n",
       "B_Cell_Differentiation                                    5.440223   \n",
       "\n",
       "                                                 std_basin_entropy_NSB  \\\n",
       "name                                                                     \n",
       "Budding_Yeast_Cell_Cycle                                      0.008449   \n",
       "Mammalian_Cell_Cycle                                          0.003261   \n",
       "HCC1954_Breast_Cell_Line_Long-term_ErbB_Network               0.021576   \n",
       "Cortical_Area_Development                                     0.155180   \n",
       "B_Cell_Differentiation                                        0.008863   \n",
       "\n",
       "                                                   elapsed_time  \n",
       "name                                                             \n",
       "Budding_Yeast_Cell_Cycle                         0:00:18.083787  \n",
       "Mammalian_Cell_Cycle                             0:00:02.020575  \n",
       "HCC1954_Breast_Cell_Line_Long-term_ErbB_Network  0:11:16.461616  \n",
       "Cortical_Area_Development                        0:00:00.808031  \n",
       "B_Cell_Differentiation                           0:00:04.590949  "
      ]
     },
     "execution_count": 6,
     "metadata": {},
     "output_type": "execute_result"
    }
   ],
   "source": [
    "# concatenate all csv file data\n",
    "df_list = []\n",
    "for filename in glob.glob(datadir+'basin_entropy_data*.csv'):\n",
    "    df_single = pd.read_csv(filename)\n",
    "    df_list.append(df_single)\n",
    "df = pd.concat(df_list).set_index('name')\n",
    "#df = df.apply(pd.to_numeric,errors='coerce')\n",
    "# make everything numeric except for \"elapsed_time\"\n",
    "numeric_cols = df.columns[df.columns != 'elapsed_time']\n",
    "df[numeric_cols] = df[numeric_cols].apply(pd.to_numeric,errors='coerce')\n",
    "df.head()"
   ]
  },
  {
   "cell_type": "code",
   "execution_count": 9,
   "id": "2c70d4e8",
   "metadata": {},
   "outputs": [],
   "source": [
    "# gather all detailed basin data into a dictionary\n",
    "basinDataDict = {}\n",
    "for name in df.index:\n",
    "    data = load('{}basin_entropy_data_{}.pkl'.format(datadir,name))\n",
    "    basinDataDict[name] = data"
   ]
  },
  {
   "cell_type": "markdown",
   "id": "e8ce5d81",
   "metadata": {},
   "source": [
    "### Load all Cell Collective networks into Neet"
   ]
  },
  {
   "cell_type": "code",
   "execution_count": 16,
   "id": "1cb1b218",
   "metadata": {},
   "outputs": [],
   "source": [
    "# from cellCollective.py\n",
    "from neet.boolean import LogicNetwork\n",
    "import os\n",
    "def load_cell_collective_network(directory):\n",
    "    \"\"\"\n",
    "    Creates neet network from cell collective data in the\n",
    "    given directory.\n",
    "    \"\"\"\n",
    "    expressions_file = '{}/expressions.txt'.format(directory)\n",
    "    external_file = '{}/external.txt'.format(directory)\n",
    "    net = LogicNetwork.read_logic(expressions_file, external_file)\n",
    "    return net\n",
    "\n",
    "def load_all_cell_collective_networks(main_directory,\n",
    "    skip=['ErbB_Receptor_Signaling']):\n",
    "    \"\"\"\n",
    "    Returns dictionary of all cell collective networks\n",
    "    located in subdirectories of the given main directory.\n",
    "    \n",
    "    skip (['ErbB_Receptor_Signaling']) : List of network names\n",
    "                                         to skip\n",
    "    \"\"\"\n",
    "    netDict = {}\n",
    "    for directory in glob.glob(main_directory+\"/*\"):\n",
    "        name = os.path.split(directory)[-1]\n",
    "        if os.path.isdir(directory) and name not in skip:\n",
    "            net = load_cell_collective_network(directory)\n",
    "            netDict[name] = net\n",
    "    return netDict"
   ]
  },
  {
   "cell_type": "code",
   "execution_count": 17,
   "id": "054e92aa",
   "metadata": {},
   "outputs": [],
   "source": [
    "CELL_COLLECTIVE_DIR = '/Users/bdaniel6/ASUDropbox/Research/control-continuous/Data/Cell Collective/'\n",
    "netDict = load_all_cell_collective_networks(CELL_COLLECTIVE_DIR)"
   ]
  },
  {
   "cell_type": "markdown",
   "id": "18e50347",
   "metadata": {},
   "source": [
    "# Find all isolated attractors in each analyzed network"
   ]
  },
  {
   "cell_type": "code",
   "execution_count": 40,
   "id": "e528329a",
   "metadata": {},
   "outputs": [],
   "source": [
    "import preimages\n",
    "import importlib\n",
    "importlib.reload(preimages)\n",
    "import tqdm"
   ]
  },
  {
   "cell_type": "code",
   "execution_count": 20,
   "id": "2217d367",
   "metadata": {},
   "outputs": [
    {
     "data": {
      "text/plain": [
       "{'name': 'Cortical_Area_Development',\n",
       " 'network_size': 5,\n",
       " 'num_states': 32,\n",
       " 'attractors': array([[ 3],\n",
       "        [28]]),\n",
       " 'num_attractors': 2,\n",
       " 'num_samples': 10000,\n",
       " 'sampled_basin_freqs': [28, 4],\n",
       " 'basin_entropy_NSB': 0.5684643218360583,\n",
       " 'std_basin_entropy_NSB': 0.1551796050704989,\n",
       " 'elapsed_time': datetime.timedelta(microseconds=808031)}"
      ]
     },
     "execution_count": 20,
     "metadata": {},
     "output_type": "execute_result"
    }
   ],
   "source": [
    "basinDataDict['Cortical_Area_Development']"
   ]
  },
  {
   "cell_type": "code",
   "execution_count": 47,
   "id": "1478736b",
   "metadata": {},
   "outputs": [],
   "source": [
    "def isolated_list(net,attractors,basin_samples=None):\n",
    "    \"\"\"\n",
    "    Returns a list of Boolean values of length number of attractors\n",
    "    corresponding to whether each attractor is \"isolated\"\n",
    "    (has basin of size 1).\n",
    "    \n",
    "    basin_samples (None)        : Optionally give list of basin samples to avoid computing\n",
    "                                  preimages of attractors that we already know are not isolated.\n",
    "    \"\"\"\n",
    "    if basin_samples is None:\n",
    "        basin_samples = np.zeros(len(attractors))\n",
    "    assert(len(attractors)==len(basin_samples))\n",
    "    \n",
    "    is_isolated_list = []\n",
    "    for i,att in enumerate(tqdm.tqdm(attractors)):\n",
    "        if len(att) > 1 or basin_samples[i] > 1:\n",
    "            is_isolated_list.append(False)\n",
    "        else:\n",
    "            decoded_att = net.decode(att[0])\n",
    "            is_isolated_list.append(len(preimages.preimages(net,decoded_att))==1)\n",
    "    return is_isolated_list"
   ]
  },
  {
   "cell_type": "code",
   "execution_count": 48,
   "id": "4ab1702c",
   "metadata": {},
   "outputs": [
    {
     "name": "stderr",
     "output_type": "stream",
     "text": [
      "100%|███████████████████████████████████████████| 2/2 [00:00<00:00, 1539.76it/s]\n"
     ]
    },
    {
     "data": {
      "text/plain": [
       "[False, False]"
      ]
     },
     "execution_count": 48,
     "metadata": {},
     "output_type": "execute_result"
    }
   ],
   "source": [
    "net_name = 'Cortical_Area_Development'\n",
    "\n",
    "net = netDict[net_name]\n",
    "isolated_list(net,\n",
    "              basinDataDict[net_name]['attractors'],\n",
    "              basinDataDict[net_name]['sampled_basin_freqs'])"
   ]
  },
  {
   "cell_type": "code",
   "execution_count": 49,
   "id": "c594f2fd",
   "metadata": {},
   "outputs": [
    {
     "name": "stdout",
     "output_type": "stream",
     "text": [
      "Computing for network Budding_Yeast_Cell_Cycle...\n"
     ]
    },
    {
     "name": "stderr",
     "output_type": "stream",
     "text": [
      "100%|███████████████████████████████████████| 33/33 [00:00<00:00, 178366.02it/s]\n"
     ]
    },
    {
     "name": "stdout",
     "output_type": "stream",
     "text": [
      "Computing for network Mammalian_Cell_Cycle...\n"
     ]
    },
    {
     "name": "stderr",
     "output_type": "stream",
     "text": [
      "100%|██████████████████████████████████████████| 3/3 [00:00<00:00, 33288.13it/s]\n"
     ]
    },
    {
     "name": "stdout",
     "output_type": "stream",
     "text": [
      "Computing for network HCC1954_Breast_Cell_Line_Long-term_ErbB_Network...\n"
     ]
    },
    {
     "name": "stderr",
     "output_type": "stream",
     "text": [
      "100%|███████████████████████████████████████| 9452/9452 [06:12<00:00, 25.38it/s]\n"
     ]
    },
    {
     "name": "stdout",
     "output_type": "stream",
     "text": [
      "Computing for network Cortical_Area_Development...\n"
     ]
    },
    {
     "name": "stderr",
     "output_type": "stream",
     "text": [
      "100%|██████████████████████████████████████████| 2/2 [00:00<00:00, 55553.70it/s]\n"
     ]
    },
    {
     "name": "stdout",
     "output_type": "stream",
     "text": [
      "Computing for network B_Cell_Differentiation...\n"
     ]
    },
    {
     "name": "stderr",
     "output_type": "stream",
     "text": [
      "100%|██████████████████████████████████████| 61/61 [00:00<00:00, 1031663.48it/s]\n"
     ]
    },
    {
     "name": "stdout",
     "output_type": "stream",
     "text": [
      "Computing for network Predicting_Variabilities_In_Cardiac_Gene...\n"
     ]
    },
    {
     "name": "stderr",
     "output_type": "stream",
     "text": [
      "100%|█████████████████████████████████████████| 6/6 [00:00<00:00, 186413.51it/s]\n"
     ]
    },
    {
     "name": "stdout",
     "output_type": "stream",
     "text": [
      "Computing for network Pro-inflammatory_Tumor_Microenvironment_In_Acute_Lymphoblastic_Leukemia...\n"
     ]
    },
    {
     "name": "stderr",
     "output_type": "stream",
     "text": [
      "100%|█████████████████████████████████████████| 6/6 [00:00<00:00, 147168.56it/s]\n"
     ]
    },
    {
     "name": "stdout",
     "output_type": "stream",
     "text": [
      "Computing for network T-LGL_Survival_Network_2011_Reduced_Network...\n"
     ]
    },
    {
     "name": "stderr",
     "output_type": "stream",
     "text": [
      "100%|██████████████████████████████████████████| 3/3 [00:00<00:00, 99864.38it/s]\n"
     ]
    },
    {
     "name": "stdout",
     "output_type": "stream",
     "text": [
      "Computing for network Processing_Of_Spz_Network_From_The_Drosophila_Signaling_Pathway...\n"
     ]
    },
    {
     "name": "stderr",
     "output_type": "stream",
     "text": [
      "100%|██████████████████████████████████████| 64/64 [00:00<00:00, 1123160.90it/s]\n"
     ]
    },
    {
     "name": "stdout",
     "output_type": "stream",
     "text": [
      "Computing for network Neurotransmitter_Signaling_Pathway...\n"
     ]
    },
    {
     "name": "stderr",
     "output_type": "stream",
     "text": [
      "100%|██████████████████████████████████████████| 4/4 [00:00<00:00, 98112.37it/s]\n"
     ]
    },
    {
     "name": "stdout",
     "output_type": "stream",
     "text": [
      "Computing for network Toll_Pathway_Of_Drosophila_Signaling_Pathway...\n"
     ]
    },
    {
     "name": "stderr",
     "output_type": "stream",
     "text": [
      "100%|██████████████████████████████████████████| 4/4 [00:00<00:00, 33420.75it/s]\n"
     ]
    },
    {
     "name": "stdout",
     "output_type": "stream",
     "text": [
      "Computing for network Regulation_Of_The_L-arabinose_Operon_Of_Escherichia_Coli...\n"
     ]
    },
    {
     "name": "stderr",
     "output_type": "stream",
     "text": [
      "100%|███████████████████████████████████████| 21/21 [00:00<00:00, 276114.06it/s]\n"
     ]
    },
    {
     "name": "stdout",
     "output_type": "stream",
     "text": [
      "Computing for network FGF_Pathway_Of_Drosophila_Signalling_Pathways...\n"
     ]
    },
    {
     "name": "stderr",
     "output_type": "stream",
     "text": [
      "100%|████████████████████████████████████| 512/512 [00:00<00:00, 1952257.86it/s]\n"
     ]
    },
    {
     "name": "stdout",
     "output_type": "stream",
     "text": [
      "Computing for network Vegf_Pathway_Of_Drosophila_Signaling_Pathway...\n"
     ]
    },
    {
     "name": "stderr",
     "output_type": "stream",
     "text": [
      "100%|████████████████████████████████████| 256/256 [00:00<00:00, 1754480.10it/s]\n"
     ]
    },
    {
     "name": "stdout",
     "output_type": "stream",
     "text": [
      "Computing for network Cell_Cycle_Transcription_By_Coupled_CDK_And_Network_Oscillators...\n"
     ]
    },
    {
     "name": "stderr",
     "output_type": "stream",
     "text": [
      "100%|██████████████████████████████████████████| 2/2 [00:00<00:00, 62601.55it/s]\n"
     ]
    },
    {
     "name": "stdout",
     "output_type": "stream",
     "text": [
      "Computing for network Iron_Acquisition_And_Oxidative_Stress_Response_In_Aspergillus_Fumigatus...\n"
     ]
    },
    {
     "name": "stderr",
     "output_type": "stream",
     "text": [
      "100%|██████████████████████████████████████████| 4/4 [00:00<00:00, 93206.76it/s]\n"
     ]
    },
    {
     "name": "stdout",
     "output_type": "stream",
     "text": [
      "Computing for network Wg_Pathway_Of_Drosophila_Signalling_Pathways...\n"
     ]
    },
    {
     "name": "stderr",
     "output_type": "stream",
     "text": [
      "100%|█████████████████████████████████████| 16384/16384 [10:02<00:00, 27.17it/s]\n"
     ]
    },
    {
     "name": "stdout",
     "output_type": "stream",
     "text": [
      "Computing for network Oxidative_Stress_Pathway...\n"
     ]
    },
    {
     "name": "stderr",
     "output_type": "stream",
     "text": [
      "100%|██████████████████████████████████████████| 2/2 [00:00<00:00, 42366.71it/s]\n"
     ]
    },
    {
     "name": "stdout",
     "output_type": "stream",
     "text": [
      "Computing for network Metabolic_Interactions_In_The_Gut_Microbiome...\n"
     ]
    },
    {
     "name": "stderr",
     "output_type": "stream",
     "text": [
      "100%|███████████████████████████████████████| 40/40 [00:00<00:00, 864804.95it/s]\n"
     ]
    },
    {
     "name": "stdout",
     "output_type": "stream",
     "text": [
      "Computing for network CD4+_T_Cell_Differentiation_And_Plasticity...\n"
     ]
    },
    {
     "name": "stderr",
     "output_type": "stream",
     "text": [
      "100%|█████████████████████████████████████████| 324/324 [00:04<00:00, 80.88it/s]\n"
     ]
    },
    {
     "name": "stdout",
     "output_type": "stream",
     "text": [
      "Computing for network TOL_Regulatory_Network...\n"
     ]
    },
    {
     "name": "stderr",
     "output_type": "stream",
     "text": [
      "100%|██████████████████████████████████| 1024/1024 [00:00<00:00, 2380802.27it/s]\n"
     ]
    },
    {
     "name": "stdout",
     "output_type": "stream",
     "text": [
      "Computing for network HCC1954_Breast_Cell_Line_Short-term_ErbB_Network...\n"
     ]
    },
    {
     "name": "stderr",
     "output_type": "stream",
     "text": [
      "100%|████████████████████████████████████████| 274/274 [00:01<00:00, 173.52it/s]\n"
     ]
    },
    {
     "name": "stdout",
     "output_type": "stream",
     "text": [
      "Computing for network BT474_Breast_Cell_Line_Long-term_ErbB_Network...\n"
     ]
    },
    {
     "name": "stderr",
     "output_type": "stream",
     "text": [
      "100%|███████████████████████████████████████| 3344/3344 [01:56<00:00, 28.74it/s]\n"
     ]
    },
    {
     "name": "stdout",
     "output_type": "stream",
     "text": [
      "Computing for network Trichostrongylus_Retortaeformis...\n"
     ]
    },
    {
     "name": "stderr",
     "output_type": "stream",
     "text": [
      "100%|███████████████████████████████████████| 12/12 [00:00<00:00, 324720.31it/s]\n"
     ]
    },
    {
     "name": "stdout",
     "output_type": "stream",
     "text": [
      "Computing for network Body_Segmentation_In_Drosophila_2013...\n"
     ]
    },
    {
     "name": "stderr",
     "output_type": "stream",
     "text": [
      "100%|███████████████████████████████████████| 10/10 [00:00<00:00, 223101.28it/s]\n"
     ]
    },
    {
     "name": "stdout",
     "output_type": "stream",
     "text": [
      "Computing for network Lac_Operon...\n"
     ]
    },
    {
     "name": "stderr",
     "output_type": "stream",
     "text": [
      "100%|█████████████████████████████████████████| 9/9 [00:00<00:00, 184140.18it/s]\n"
     ]
    },
    {
     "name": "stdout",
     "output_type": "stream",
     "text": [
      "Computing for network Death_Receptor_Signaling...\n"
     ]
    },
    {
     "name": "stderr",
     "output_type": "stream",
     "text": [
      "100%|██████████████████████████████████████████| 97/97 [00:00<00:00, 273.57it/s]\n"
     ]
    },
    {
     "name": "stdout",
     "output_type": "stream",
     "text": [
      "Computing for network SKBR3_Breast_Cell_Line_Long-term_ErbB_Network...\n"
     ]
    },
    {
     "name": "stderr",
     "output_type": "stream",
     "text": [
      "100%|███████████████████████████████████████| 3185/3185 [02:08<00:00, 24.77it/s]\n"
     ]
    },
    {
     "name": "stdout",
     "output_type": "stream",
     "text": [
      "Computing for network T_Cell_Differentiation...\n"
     ]
    },
    {
     "name": "stderr",
     "output_type": "stream",
     "text": [
      "100%|███████████████████████████████████████| 33/33 [00:00<00:00, 748173.15it/s]\n"
     ]
    },
    {
     "name": "stdout",
     "output_type": "stream",
     "text": [
      "Computing for network Cardiac_Development...\n"
     ]
    },
    {
     "name": "stderr",
     "output_type": "stream",
     "text": [
      "100%|█████████████████████████████████████████| 6/6 [00:00<00:00, 150693.56it/s]\n"
     ]
    },
    {
     "name": "stdout",
     "output_type": "stream",
     "text": [
      "Computing for network Human_Gonadal_Sex_Determination...\n"
     ]
    },
    {
     "name": "stderr",
     "output_type": "stream",
     "text": [
      "100%|██████████████████████████████████████████| 3/3 [00:00<00:00, 93206.76it/s]\n"
     ]
    },
    {
     "name": "stdout",
     "output_type": "stream",
     "text": [
      "Computing for network HH_Pathway_Of_Drosophila_Signaling_Pathways...\n"
     ]
    },
    {
     "name": "stderr",
     "output_type": "stream",
     "text": [
      "100%|███████████████████████████████████████| 8192/8192 [07:38<00:00, 17.86it/s]\n"
     ]
    },
    {
     "name": "stdout",
     "output_type": "stream",
     "text": [
      "Computing for network SKBR3_Breast_Cell_Line_Short-term_ErbB_Network...\n"
     ]
    },
    {
     "name": "stderr",
     "output_type": "stream",
     "text": [
      "100%|█████████████████████████████████████████| 702/702 [00:08<00:00, 84.02it/s]\n"
     ]
    },
    {
     "name": "stdout",
     "output_type": "stream",
     "text": [
      "Computing for network BT474_Breast_Cell_Line_Short-term_ErbB_Network...\n"
     ]
    },
    {
     "name": "stderr",
     "output_type": "stream",
     "text": [
      "100%|████████████████████████████████████████| 253/253 [00:01<00:00, 135.58it/s]\n"
     ]
    }
   ],
   "source": [
    "for net_name in basinDataDict:\n",
    "    print(\"Computing for network {}...\".format(net_name))\n",
    "    net = netDict[net_name]\n",
    "    is_isolated_list = isolated_list(net,\n",
    "                                     basinDataDict[net_name]['attractors'],\n",
    "                                     basinDataDict[net_name]['sampled_basin_freqs'])\n",
    "    basinDataDict[net_name]['is_isolated_list'] = is_isolated_list"
   ]
  },
  {
   "cell_type": "code",
   "execution_count": 53,
   "id": "b56b4890",
   "metadata": {},
   "outputs": [],
   "source": [
    "# compuate number of isolated fixed points for each network\n",
    "for net_name in basinDataDict:\n",
    "    ck_df.loc[nice_name(net_name),'number of isolated fixed points'] = \\\n",
    "        np.sum(basinDataDict[net_name]['is_isolated_list'])"
   ]
  },
  {
   "cell_type": "code",
   "execution_count": 62,
   "id": "95de37f0",
   "metadata": {},
   "outputs": [
    {
     "data": {
      "image/png": "[encoded data removed]",
      "text/plain": [
       "<Figure size 640x480 with 1 Axes>"
      ]
     },
     "metadata": {},
     "output_type": "display_data"
    }
   ],
   "source": [
    "r = ck_df['number of attractors']\n",
    "s = ck_df['number of isolated fixed points']\n",
    "n = ck_df['size']\n",
    "predicted_ck = (r - s)/(r)*np.log2(r) + n*s/r\n",
    "actual_ck = ck_df['mean control kernel size']\n",
    "plt.scatter(r,actual_ck,label='Actual',s=100)\n",
    "#plt.scatter(r,predicted_ck,label='Predicted')\n",
    "\n",
    "plt.xlabel('Number of attractors')\n",
    "plt.ylabel('CK size')\n",
    "plt.legend()\n",
    "plt.xscale('log')"
   ]
  },
  {
   "cell_type": "code",
   "execution_count": null,
   "id": "6227bdfe",
   "metadata": {},
   "outputs": [],
   "source": []
  },
  {
   "cell_type": "code",
   "execution_count": 68,
   "id": "92fe4406",
   "metadata": {},
   "outputs": [
    {
     "data": {
      "image/png": "[encoded data removed]",
      "text/plain": [
       "<Figure size 640x480 with 1 Axes>"
      ]
     },
     "metadata": {},
     "output_type": "display_data"
    }
   ],
   "source": [
    "plt.scatter(predicted_ck,actual_ck)\n",
    "plt.xlabel('Predicted mean CK size')\n",
    "plt.ylabel('Actual mean CK size')\n",
    "sizemin,sizemax = 0,20\n",
    "plt.plot([sizemin,sizemax],[sizemin,sizemax],'k:',lw=0.5)\n",
    "plt.axis([sizemin,sizemax,sizemin,sizemax])\n",
    "plt.savefig('240110_actual_versus_predicted_mean_ck_size.pdf')"
   ]
  },
  {
   "cell_type": "code",
   "execution_count": null,
   "id": "afb95a72",
   "metadata": {},
   "outputs": [],
   "source": []
  }
 ],
 "metadata": {
  "kernelspec": {
   "display_name": "Python 3 (ipykernel)",
   "language": "python",
   "name": "python3"
  },
  "language_info": {
   "codemirror_mode": {
    "name": "ipython",
    "version": 3
   },
   "file_extension": ".py",
   "mimetype": "text/x-python",
   "name": "python",
   "nbconvert_exporter": "python",
   "pygments_lexer": "ipython3",
   "version": "3.9.16"
  }
 },
 "nbformat": 4,
 "nbformat_minor": 5
}

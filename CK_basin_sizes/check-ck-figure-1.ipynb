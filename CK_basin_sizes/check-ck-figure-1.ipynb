{
 "cells": [
  {
   "cell_type": "code",
   "execution_count": null,
   "id": "e2e65d91-e879-47fb-8a5b-3c6eb528ef67",
   "metadata": {},
   "outputs": [],
   "source": [
    "# check-ck-figure-1.ipynb\n",
    "#\n",
    "# Bryan Daniels\n",
    "# 2024/10/29\n",
    "#\n",
    "# Check examples pointed out by Zhao Yuanchen that might be incorrect in the current version of Fig. 1\n",
    "#"
   ]
  },
  {
   "cell_type": "code",
   "execution_count": 1,
   "id": "9e112f61-f7e4-4caa-aea4-1d059c820d17",
   "metadata": {},
   "outputs": [],
   "source": [
    "from neet.boolean import LogicNetwork\n",
    "from neet.controlkernel.control_kernel_analysis import dn_analysis,ck_analysis"
   ]
  },
  {
   "cell_type": "code",
   "execution_count": 2,
   "id": "7dbd1421-a0a5-4ee8-a841-1c0625796ed8",
   "metadata": {},
   "outputs": [],
   "source": [
    "tableB = [((0,1,2),{'010','101','111','011','110'}),\n",
    "          ((0,1,2),{'100','001','011','101','111'}),\n",
    "          ((0,1,2),{'001','110','100','010','101','011','111'})]\n",
    "\n",
    "netB = LogicNetwork(tableB,names=['A','B','C'])"
   ]
  },
  {
   "cell_type": "code",
   "execution_count": 3,
   "id": "4984dcd9-9c71-40cd-b40e-0f606fbd7cb7",
   "metadata": {},
   "outputs": [
    {
     "name": "stdout",
     "output_type": "stream",
     "text": [
      "[0, 0, 0] -> [0, 0, 0]\n",
      "[1, 0, 0] -> [0, 1, 1]\n",
      "[0, 1, 0] -> [1, 0, 1]\n",
      "[1, 1, 0] -> [1, 0, 1]\n",
      "[0, 0, 1] -> [0, 1, 1]\n",
      "[1, 0, 1] -> [1, 1, 1]\n",
      "[0, 1, 1] -> [1, 1, 1]\n",
      "[1, 1, 1] -> [1, 1, 1]\n"
     ]
    }
   ],
   "source": [
    "for i,state in enumerate(netB.transitions):\n",
    "    print(netB.decode(i),'->',netB.decode(state))"
   ]
  },
  {
   "cell_type": "code",
   "execution_count": 4,
   "id": "f8f6c75b-fde8-4352-afc2-70ed78adbdd7",
   "metadata": {},
   "outputs": [
    {
     "name": "stdout",
     "output_type": "stream",
     "text": [
      "Finding attractors and control kernels...\n"
     ]
    },
    {
     "data": {
      "text/plain": [
       "{'size': 3,\n",
       " 'control_kernel_sizes': [2, 1],\n",
       " 'control_kernels': [{0, 2}, {0}],\n",
       " 'attractors': array([[0],\n",
       "        [7]]),\n",
       " 'has_limit_cycles': False,\n",
       " 'delta_control_nodes': {0: [{0, 2}, {0}]},\n",
       " 'basin_entropies': {0: [None, None]},\n",
       " 'delta_control_kernel_sizes': array([2, 1]),\n",
       " 'delta_basin_entropies': array([None, None], dtype=object),\n",
       " 'simple_control_entropies': False,\n",
       " 'control_kernel_time_minutes': 0.00011571645736694336,\n",
       " 'modules': [{0, 1, 2}]}"
      ]
     },
     "execution_count": 4,
     "metadata": {},
     "output_type": "execute_result"
    }
   ],
   "source": [
    "ck_analysis(netB)"
   ]
  },
  {
   "cell_type": "code",
   "execution_count": 8,
   "id": "ddd1b349-4f1d-45da-82f0-3e6a118a6d83",
   "metadata": {},
   "outputs": [],
   "source": [
    "tableBv2 = [((0,1,2),{'010','100','110','101','111','011'}),\n",
    "            ((0,1,2),{'010','001','101','111','011'}),\n",
    "            ((0,1,2),{'110','100','001','101','011','111'})]\n",
    "\n",
    "netBv2 = LogicNetwork(tableBv2,names=['A','B','C'])"
   ]
  },
  {
   "cell_type": "code",
   "execution_count": 9,
   "id": "9fb97230-0c63-436c-b698-114f15d25201",
   "metadata": {},
   "outputs": [
    {
     "name": "stdout",
     "output_type": "stream",
     "text": [
      "[0, 0, 0] -> [0, 0, 0]\n",
      "[1, 0, 0] -> [1, 0, 1]\n",
      "[0, 1, 0] -> [1, 1, 0]\n",
      "[1, 1, 0] -> [1, 0, 1]\n",
      "[0, 0, 1] -> [0, 1, 1]\n",
      "[1, 0, 1] -> [1, 1, 1]\n",
      "[0, 1, 1] -> [1, 1, 1]\n",
      "[1, 1, 1] -> [1, 1, 1]\n"
     ]
    }
   ],
   "source": [
    "for i,state in enumerate(netBv2.transitions):\n",
    "    print(netBv2.decode(i),'->',netBv2.decode(state))"
   ]
  },
  {
   "cell_type": "code",
   "execution_count": 10,
   "id": "fd73e83e-92f8-4195-b482-07b9b49aac7e",
   "metadata": {},
   "outputs": [
    {
     "name": "stdout",
     "output_type": "stream",
     "text": [
      "Finding attractors and control kernels...\n"
     ]
    },
    {
     "data": {
      "text/plain": [
       "{'size': 3,\n",
       " 'control_kernel_sizes': [3, 1],\n",
       " 'control_kernels': [{0, 1, 2}, {0}],\n",
       " 'attractors': array([[0],\n",
       "        [7]]),\n",
       " 'has_limit_cycles': False,\n",
       " 'delta_control_nodes': {0: [[0, 1, 2], {0}]},\n",
       " 'basin_entropies': {0: [None, None]},\n",
       " 'delta_control_kernel_sizes': array([3, 1]),\n",
       " 'delta_basin_entropies': array([None, None], dtype=object),\n",
       " 'simple_control_entropies': False,\n",
       " 'control_kernel_time_minutes': 7.713635762532553e-05,\n",
       " 'modules': [{0, 1, 2}]}"
      ]
     },
     "execution_count": 10,
     "metadata": {},
     "output_type": "execute_result"
    }
   ],
   "source": [
    "ck_analysis(netBv2)"
   ]
  },
  {
   "cell_type": "code",
   "execution_count": null,
   "id": "38999aa9-5b76-4b70-ba55-ca209756562b",
   "metadata": {},
   "outputs": [],
   "source": []
  }
 ],
 "metadata": {
  "kernelspec": {
   "display_name": "Python 3 (ipykernel)",
   "language": "python",
   "name": "python3"
  },
  "language_info": {
   "codemirror_mode": {
    "name": "ipython",
    "version": 3
   },
   "file_extension": ".py",
   "mimetype": "text/x-python",
   "name": "python",
   "nbconvert_exporter": "python",
   "pygments_lexer": "ipython3",
   "version": "3.12.4"
  }
 },
 "nbformat": 4,
 "nbformat_minor": 5
}

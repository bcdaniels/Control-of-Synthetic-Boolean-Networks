{
 "cells": [
  {
   "cell_type": "code",
   "execution_count": null,
   "id": "2dcb71c3",
   "metadata": {},
   "outputs": [],
   "source": [
    "# basin-entropy-scan.ipynb\n",
    "#\n",
    "# Bryan Daniels, Enrico Borriello\n",
    "# 2023/8/31\n",
    "#"
   ]
  },
  {
   "cell_type": "code",
   "execution_count": 1,
   "id": "6169f716",
   "metadata": {},
   "outputs": [],
   "source": [
    "import pandas as pd\n",
    "import numpy as np\n",
    "import matplotlib.pyplot as plt"
   ]
  },
  {
   "cell_type": "code",
   "execution_count": 2,
   "id": "e0a45172",
   "metadata": {},
   "outputs": [],
   "source": [
    "df = pd.read_csv('CK_vs_entropy_data_scan.csv')"
   ]
  },
  {
   "cell_type": "code",
   "execution_count": 24,
   "id": "ba3a8d62",
   "metadata": {},
   "outputs": [],
   "source": [
    "# remove extra \"title\" rows\n",
    "df.drop(df[df.n=='n'].index,inplace=True)"
   ]
  },
  {
   "cell_type": "code",
   "execution_count": 25,
   "id": "154f25cf",
   "metadata": {
    "scrolled": false
   },
   "outputs": [
    {
     "data": {
      "text/plain": [
       "n   r  \n",
       "10  10     1000\n",
       "    100     980\n",
       "    2      1000\n",
       "    20     1000\n",
       "    3      1000\n",
       "           ... \n",
       "9   70      990\n",
       "    8      1000\n",
       "    80      990\n",
       "    9      1000\n",
       "    90      990\n",
       "Name: ck_mean_size, Length: 76, dtype: int64"
      ]
     },
     "execution_count": 25,
     "metadata": {},
     "output_type": "execute_result"
    }
   ],
   "source": [
    "df.groupby(['n','r']).count().ck_mean_size"
   ]
  },
  {
   "cell_type": "code",
   "execution_count": 40,
   "id": "87eadd4d",
   "metadata": {},
   "outputs": [
    {
     "data": {
      "text/html": [
       "<div>\n",
       "<style scoped>\n",
       "    .dataframe tbody tr th:only-of-type {\n",
       "        vertical-align: middle;\n",
       "    }\n",
       "\n",
       "    .dataframe tbody tr th {\n",
       "        vertical-align: top;\n",
       "    }\n",
       "\n",
       "    .dataframe thead th {\n",
       "        text-align: right;\n",
       "    }\n",
       "</style>\n",
       "<table border=\"1\" class=\"dataframe\">\n",
       "  <thead>\n",
       "    <tr style=\"text-align: right;\">\n",
       "      <th></th>\n",
       "      <th>n</th>\n",
       "      <th>r</th>\n",
       "      <th>eta</th>\n",
       "      <th>eta_tilde</th>\n",
       "      <th>seed</th>\n",
       "      <th>ck_mean_size</th>\n",
       "      <th>elapsed_time</th>\n",
       "    </tr>\n",
       "  </thead>\n",
       "  <tbody>\n",
       "    <tr>\n",
       "      <th>32595</th>\n",
       "      <td>8</td>\n",
       "      <td>3</td>\n",
       "      <td>0.07372691234324169</td>\n",
       "      <td>0.07372691234324169</td>\n",
       "      <td>1000</td>\n",
       "      <td>3.0</td>\n",
       "      <td>0:00:00.199103</td>\n",
       "    </tr>\n",
       "    <tr>\n",
       "      <th>32596</th>\n",
       "      <td>8</td>\n",
       "      <td>3</td>\n",
       "      <td>0.07372691234324169</td>\n",
       "      <td>0.07372691234324169</td>\n",
       "      <td>1001</td>\n",
       "      <td>2.6666666666666665</td>\n",
       "      <td>0:00:00.171209</td>\n",
       "    </tr>\n",
       "    <tr>\n",
       "      <th>32597</th>\n",
       "      <td>8</td>\n",
       "      <td>3</td>\n",
       "      <td>0.07372691234324169</td>\n",
       "      <td>0.07372691234324169</td>\n",
       "      <td>1002</td>\n",
       "      <td>2.3333333333333335</td>\n",
       "      <td>0:00:00.128240</td>\n",
       "    </tr>\n",
       "    <tr>\n",
       "      <th>32598</th>\n",
       "      <td>8</td>\n",
       "      <td>3</td>\n",
       "      <td>0.07372691234324169</td>\n",
       "      <td>0.07372691234324169</td>\n",
       "      <td>1003</td>\n",
       "      <td>2.3333333333333335</td>\n",
       "      <td>0:00:00.081261</td>\n",
       "    </tr>\n",
       "    <tr>\n",
       "      <th>32599</th>\n",
       "      <td>8</td>\n",
       "      <td>3</td>\n",
       "      <td>0.07372691234324169</td>\n",
       "      <td>0.07372691234324169</td>\n",
       "      <td>1004</td>\n",
       "      <td>2.0</td>\n",
       "      <td>0:00:00.100702</td>\n",
       "    </tr>\n",
       "    <tr>\n",
       "      <th>...</th>\n",
       "      <td>...</td>\n",
       "      <td>...</td>\n",
       "      <td>...</td>\n",
       "      <td>...</td>\n",
       "      <td>...</td>\n",
       "      <td>...</td>\n",
       "      <td>...</td>\n",
       "    </tr>\n",
       "    <tr>\n",
       "      <th>33590</th>\n",
       "      <td>8</td>\n",
       "      <td>3</td>\n",
       "      <td>1.584284329409297</td>\n",
       "      <td>1.584962500721156</td>\n",
       "      <td>1005</td>\n",
       "      <td>2.0</td>\n",
       "      <td>0:00:00.063700</td>\n",
       "    </tr>\n",
       "    <tr>\n",
       "      <th>33591</th>\n",
       "      <td>8</td>\n",
       "      <td>3</td>\n",
       "      <td>1.584284329409297</td>\n",
       "      <td>1.584962500721156</td>\n",
       "      <td>1006</td>\n",
       "      <td>2.0</td>\n",
       "      <td>0:00:00.053069</td>\n",
       "    </tr>\n",
       "    <tr>\n",
       "      <th>33592</th>\n",
       "      <td>8</td>\n",
       "      <td>3</td>\n",
       "      <td>1.584284329409297</td>\n",
       "      <td>1.584962500721156</td>\n",
       "      <td>1007</td>\n",
       "      <td>2.0</td>\n",
       "      <td>0:00:00.054679</td>\n",
       "    </tr>\n",
       "    <tr>\n",
       "      <th>33593</th>\n",
       "      <td>8</td>\n",
       "      <td>3</td>\n",
       "      <td>1.584284329409297</td>\n",
       "      <td>1.584962500721156</td>\n",
       "      <td>1008</td>\n",
       "      <td>2.0</td>\n",
       "      <td>0:00:00.059423</td>\n",
       "    </tr>\n",
       "    <tr>\n",
       "      <th>33594</th>\n",
       "      <td>8</td>\n",
       "      <td>3</td>\n",
       "      <td>1.584284329409297</td>\n",
       "      <td>1.584962500721156</td>\n",
       "      <td>1009</td>\n",
       "      <td>2.3333333333333335</td>\n",
       "      <td>0:00:00.059501</td>\n",
       "    </tr>\n",
       "  </tbody>\n",
       "</table>\n",
       "<p>1000 rows × 7 columns</p>\n",
       "</div>"
      ],
      "text/plain": [
       "       n  r                  eta            eta_tilde  seed  \\\n",
       "32595  8  3  0.07372691234324169  0.07372691234324169  1000   \n",
       "32596  8  3  0.07372691234324169  0.07372691234324169  1001   \n",
       "32597  8  3  0.07372691234324169  0.07372691234324169  1002   \n",
       "32598  8  3  0.07372691234324169  0.07372691234324169  1003   \n",
       "32599  8  3  0.07372691234324169  0.07372691234324169  1004   \n",
       "...   .. ..                  ...                  ...   ...   \n",
       "33590  8  3    1.584284329409297    1.584962500721156  1005   \n",
       "33591  8  3    1.584284329409297    1.584962500721156  1006   \n",
       "33592  8  3    1.584284329409297    1.584962500721156  1007   \n",
       "33593  8  3    1.584284329409297    1.584962500721156  1008   \n",
       "33594  8  3    1.584284329409297    1.584962500721156  1009   \n",
       "\n",
       "             ck_mean_size    elapsed_time  \n",
       "32595                 3.0  0:00:00.199103  \n",
       "32596  2.6666666666666665  0:00:00.171209  \n",
       "32597  2.3333333333333335  0:00:00.128240  \n",
       "32598  2.3333333333333335  0:00:00.081261  \n",
       "32599                 2.0  0:00:00.100702  \n",
       "...                   ...             ...  \n",
       "33590                 2.0  0:00:00.063700  \n",
       "33591                 2.0  0:00:00.053069  \n",
       "33592                 2.0  0:00:00.054679  \n",
       "33593                 2.0  0:00:00.059423  \n",
       "33594  2.3333333333333335  0:00:00.059501  \n",
       "\n",
       "[1000 rows x 7 columns]"
      ]
     },
     "execution_count": 40,
     "metadata": {},
     "output_type": "execute_result"
    }
   ],
   "source": [
    "df[(df.n=='8') & (df.r=='3')]"
   ]
  },
  {
   "cell_type": "code",
   "execution_count": null,
   "id": "22def7a2",
   "metadata": {},
   "outputs": [],
   "source": []
  },
  {
   "cell_type": "code",
   "execution_count": 29,
   "id": "02744e6c",
   "metadata": {},
   "outputs": [
    {
     "name": "stderr",
     "output_type": "stream",
     "text": [
      "/var/folders/2y/r9yfmnys37xd00fknrv2tgym0000gn/T/ipykernel_23434/998472807.py:1: FutureWarning: The default value of numeric_only in DataFrameGroupBy.mean is deprecated. In a future version, numeric_only will default to False. Either specify numeric_only or select only columns which should be valid for the function.\n",
      "  df_mean = df.groupby(['n','r','eta_tilde']).mean()\n"
     ]
    },
    {
     "ename": "ValueError",
     "evalue": "could not convert string to float: '0:00:00.055257'",
     "output_type": "error",
     "traceback": [
      "\u001b[0;31m---------------------------------------------------------------------------\u001b[0m",
      "\u001b[0;31mValueError\u001b[0m                                Traceback (most recent call last)",
      "Cell \u001b[0;32mIn[29], line 2\u001b[0m\n\u001b[1;32m      1\u001b[0m df_mean \u001b[38;5;241m=\u001b[39m df\u001b[38;5;241m.\u001b[39mgroupby([\u001b[38;5;124m'\u001b[39m\u001b[38;5;124mn\u001b[39m\u001b[38;5;124m'\u001b[39m,\u001b[38;5;124m'\u001b[39m\u001b[38;5;124mr\u001b[39m\u001b[38;5;124m'\u001b[39m,\u001b[38;5;124m'\u001b[39m\u001b[38;5;124meta_tilde\u001b[39m\u001b[38;5;124m'\u001b[39m])\u001b[38;5;241m.\u001b[39mmean()\n\u001b[0;32m----> 2\u001b[0m df_std \u001b[38;5;241m=\u001b[39m \u001b[43mdf\u001b[49m\u001b[38;5;241;43m.\u001b[39;49m\u001b[43mgroupby\u001b[49m\u001b[43m(\u001b[49m\u001b[43m[\u001b[49m\u001b[38;5;124;43m'\u001b[39;49m\u001b[38;5;124;43mn\u001b[39;49m\u001b[38;5;124;43m'\u001b[39;49m\u001b[43m,\u001b[49m\u001b[38;5;124;43m'\u001b[39;49m\u001b[38;5;124;43mr\u001b[39;49m\u001b[38;5;124;43m'\u001b[39;49m\u001b[43m,\u001b[49m\u001b[38;5;124;43m'\u001b[39;49m\u001b[38;5;124;43meta_tilde\u001b[39;49m\u001b[38;5;124;43m'\u001b[39;49m\u001b[43m]\u001b[49m\u001b[43m)\u001b[49m\u001b[38;5;241;43m.\u001b[39;49m\u001b[43mstd\u001b[49m\u001b[43m(\u001b[49m\u001b[43m)\u001b[49m\n",
      "File \u001b[0;32m~/opt/anaconda3/lib/python3.9/site-packages/pandas/core/groupby/groupby.py:2282\u001b[0m, in \u001b[0;36mGroupBy.std\u001b[0;34m(self, ddof, engine, engine_kwargs, numeric_only)\u001b[0m\n\u001b[1;32m   2273\u001b[0m \u001b[38;5;28;01mif\u001b[39;00m (\n\u001b[1;32m   2274\u001b[0m     numeric_only_bool\n\u001b[1;32m   2275\u001b[0m     \u001b[38;5;129;01mand\u001b[39;00m \u001b[38;5;28mself\u001b[39m\u001b[38;5;241m.\u001b[39mobj\u001b[38;5;241m.\u001b[39mndim \u001b[38;5;241m==\u001b[39m \u001b[38;5;241m1\u001b[39m\n\u001b[1;32m   2276\u001b[0m     \u001b[38;5;129;01mand\u001b[39;00m \u001b[38;5;129;01mnot\u001b[39;00m is_numeric_dtype(\u001b[38;5;28mself\u001b[39m\u001b[38;5;241m.\u001b[39mobj\u001b[38;5;241m.\u001b[39mdtype)\n\u001b[1;32m   2277\u001b[0m ):\n\u001b[1;32m   2278\u001b[0m     \u001b[38;5;28;01mraise\u001b[39;00m \u001b[38;5;167;01mTypeError\u001b[39;00m(\n\u001b[1;32m   2279\u001b[0m         \u001b[38;5;124mf\u001b[39m\u001b[38;5;124m\"\u001b[39m\u001b[38;5;132;01m{\u001b[39;00m\u001b[38;5;28mtype\u001b[39m(\u001b[38;5;28mself\u001b[39m)\u001b[38;5;241m.\u001b[39m\u001b[38;5;18m__name__\u001b[39m\u001b[38;5;132;01m}\u001b[39;00m\u001b[38;5;124m.std called with \u001b[39m\u001b[38;5;124m\"\u001b[39m\n\u001b[1;32m   2280\u001b[0m         \u001b[38;5;124mf\u001b[39m\u001b[38;5;124m\"\u001b[39m\u001b[38;5;124mnumeric_only=\u001b[39m\u001b[38;5;132;01m{\u001b[39;00mnumeric_only\u001b[38;5;132;01m}\u001b[39;00m\u001b[38;5;124m and dtype \u001b[39m\u001b[38;5;132;01m{\u001b[39;00m\u001b[38;5;28mself\u001b[39m\u001b[38;5;241m.\u001b[39mobj\u001b[38;5;241m.\u001b[39mdtype\u001b[38;5;132;01m}\u001b[39;00m\u001b[38;5;124m\"\u001b[39m\n\u001b[1;32m   2281\u001b[0m     )\n\u001b[0;32m-> 2282\u001b[0m result \u001b[38;5;241m=\u001b[39m \u001b[38;5;28;43mself\u001b[39;49m\u001b[38;5;241;43m.\u001b[39;49m\u001b[43m_get_cythonized_result\u001b[49m\u001b[43m(\u001b[49m\n\u001b[1;32m   2283\u001b[0m \u001b[43m    \u001b[49m\u001b[43mlibgroupby\u001b[49m\u001b[38;5;241;43m.\u001b[39;49m\u001b[43mgroup_var\u001b[49m\u001b[43m,\u001b[49m\n\u001b[1;32m   2284\u001b[0m \u001b[43m    \u001b[49m\u001b[43mcython_dtype\u001b[49m\u001b[38;5;241;43m=\u001b[39;49m\u001b[43mnp\u001b[49m\u001b[38;5;241;43m.\u001b[39;49m\u001b[43mdtype\u001b[49m\u001b[43m(\u001b[49m\u001b[43mnp\u001b[49m\u001b[38;5;241;43m.\u001b[39;49m\u001b[43mfloat64\u001b[49m\u001b[43m)\u001b[49m\u001b[43m,\u001b[49m\n\u001b[1;32m   2285\u001b[0m \u001b[43m    \u001b[49m\u001b[43mnumeric_only\u001b[49m\u001b[38;5;241;43m=\u001b[39;49m\u001b[43mnumeric_only_bool\u001b[49m\u001b[43m,\u001b[49m\n\u001b[1;32m   2286\u001b[0m \u001b[43m    \u001b[49m\u001b[43mneeds_counts\u001b[49m\u001b[38;5;241;43m=\u001b[39;49m\u001b[38;5;28;43;01mTrue\u001b[39;49;00m\u001b[43m,\u001b[49m\n\u001b[1;32m   2287\u001b[0m \u001b[43m    \u001b[49m\u001b[43mpost_processing\u001b[49m\u001b[38;5;241;43m=\u001b[39;49m\u001b[38;5;28;43;01mlambda\u001b[39;49;00m\u001b[43m \u001b[49m\u001b[43mvals\u001b[49m\u001b[43m,\u001b[49m\u001b[43m \u001b[49m\u001b[43minference\u001b[49m\u001b[43m:\u001b[49m\u001b[43m \u001b[49m\u001b[43mnp\u001b[49m\u001b[38;5;241;43m.\u001b[39;49m\u001b[43msqrt\u001b[49m\u001b[43m(\u001b[49m\u001b[43mvals\u001b[49m\u001b[43m)\u001b[49m\u001b[43m,\u001b[49m\n\u001b[1;32m   2288\u001b[0m \u001b[43m    \u001b[49m\u001b[43mddof\u001b[49m\u001b[38;5;241;43m=\u001b[39;49m\u001b[43mddof\u001b[49m\u001b[43m,\u001b[49m\n\u001b[1;32m   2289\u001b[0m \u001b[43m\u001b[49m\u001b[43m)\u001b[49m\n\u001b[1;32m   2290\u001b[0m \u001b[38;5;28mself\u001b[39m\u001b[38;5;241m.\u001b[39m_maybe_warn_numeric_only_depr(\u001b[38;5;124m\"\u001b[39m\u001b[38;5;124mstd\u001b[39m\u001b[38;5;124m\"\u001b[39m, result, numeric_only)\n\u001b[1;32m   2291\u001b[0m \u001b[38;5;28;01mreturn\u001b[39;00m result\n",
      "File \u001b[0;32m~/opt/anaconda3/lib/python3.9/site-packages/pandas/core/groupby/groupby.py:3866\u001b[0m, in \u001b[0;36mGroupBy._get_cythonized_result\u001b[0;34m(self, base_func, cython_dtype, numeric_only, needs_counts, needs_nullable, needs_mask, pre_processing, post_processing, **kwargs)\u001b[0m\n\u001b[1;32m   3863\u001b[0m \u001b[38;5;28;01mif\u001b[39;00m numeric_only_bool:\n\u001b[1;32m   3864\u001b[0m     mgr \u001b[38;5;241m=\u001b[39m mgr\u001b[38;5;241m.\u001b[39mget_numeric_data()\n\u001b[0;32m-> 3866\u001b[0m res_mgr \u001b[38;5;241m=\u001b[39m \u001b[43mmgr\u001b[49m\u001b[38;5;241;43m.\u001b[39;49m\u001b[43mgrouped_reduce\u001b[49m\u001b[43m(\u001b[49m\u001b[43mblk_func\u001b[49m\u001b[43m,\u001b[49m\u001b[43m \u001b[49m\u001b[43mignore_failures\u001b[49m\u001b[38;5;241;43m=\u001b[39;49m\u001b[38;5;28;43;01mTrue\u001b[39;49;00m\u001b[43m)\u001b[49m\n\u001b[1;32m   3868\u001b[0m \u001b[38;5;28;01mif\u001b[39;00m \u001b[38;5;129;01mnot\u001b[39;00m is_ser \u001b[38;5;129;01mand\u001b[39;00m \u001b[38;5;28mlen\u001b[39m(res_mgr\u001b[38;5;241m.\u001b[39mitems) \u001b[38;5;241m!=\u001b[39m orig_mgr_len:\n\u001b[1;32m   3869\u001b[0m     howstr \u001b[38;5;241m=\u001b[39m how\u001b[38;5;241m.\u001b[39mreplace(\u001b[38;5;124m\"\u001b[39m\u001b[38;5;124mgroup_\u001b[39m\u001b[38;5;124m\"\u001b[39m, \u001b[38;5;124m\"\u001b[39m\u001b[38;5;124m\"\u001b[39m)\n",
      "File \u001b[0;32m~/opt/anaconda3/lib/python3.9/site-packages/pandas/core/internals/managers.py:1518\u001b[0m, in \u001b[0;36mBlockManager.grouped_reduce\u001b[0;34m(self, func, ignore_failures)\u001b[0m\n\u001b[1;32m   1516\u001b[0m \u001b[38;5;28;01mfor\u001b[39;00m sb \u001b[38;5;129;01min\u001b[39;00m blk\u001b[38;5;241m.\u001b[39m_split():\n\u001b[1;32m   1517\u001b[0m     \u001b[38;5;28;01mtry\u001b[39;00m:\n\u001b[0;32m-> 1518\u001b[0m         applied \u001b[38;5;241m=\u001b[39m \u001b[43msb\u001b[49m\u001b[38;5;241;43m.\u001b[39;49m\u001b[43mapply\u001b[49m\u001b[43m(\u001b[49m\u001b[43mfunc\u001b[49m\u001b[43m)\u001b[49m\n\u001b[1;32m   1519\u001b[0m     \u001b[38;5;28;01mexcept\u001b[39;00m (\u001b[38;5;167;01mTypeError\u001b[39;00m, \u001b[38;5;167;01mNotImplementedError\u001b[39;00m):\n\u001b[1;32m   1520\u001b[0m         \u001b[38;5;28;01mif\u001b[39;00m \u001b[38;5;129;01mnot\u001b[39;00m ignore_failures:\n",
      "File \u001b[0;32m~/opt/anaconda3/lib/python3.9/site-packages/pandas/core/internals/blocks.py:351\u001b[0m, in \u001b[0;36mBlock.apply\u001b[0;34m(self, func, **kwargs)\u001b[0m\n\u001b[1;32m    345\u001b[0m \u001b[38;5;129m@final\u001b[39m\n\u001b[1;32m    346\u001b[0m \u001b[38;5;28;01mdef\u001b[39;00m \u001b[38;5;21mapply\u001b[39m(\u001b[38;5;28mself\u001b[39m, func, \u001b[38;5;241m*\u001b[39m\u001b[38;5;241m*\u001b[39mkwargs) \u001b[38;5;241m-\u001b[39m\u001b[38;5;241m>\u001b[39m \u001b[38;5;28mlist\u001b[39m[Block]:\n\u001b[1;32m    347\u001b[0m     \u001b[38;5;124;03m\"\"\"\u001b[39;00m\n\u001b[1;32m    348\u001b[0m \u001b[38;5;124;03m    apply the function to my values; return a block if we are not\u001b[39;00m\n\u001b[1;32m    349\u001b[0m \u001b[38;5;124;03m    one\u001b[39;00m\n\u001b[1;32m    350\u001b[0m \u001b[38;5;124;03m    \"\"\"\u001b[39;00m\n\u001b[0;32m--> 351\u001b[0m     result \u001b[38;5;241m=\u001b[39m \u001b[43mfunc\u001b[49m\u001b[43m(\u001b[49m\u001b[38;5;28;43mself\u001b[39;49m\u001b[38;5;241;43m.\u001b[39;49m\u001b[43mvalues\u001b[49m\u001b[43m,\u001b[49m\u001b[43m \u001b[49m\u001b[38;5;241;43m*\u001b[39;49m\u001b[38;5;241;43m*\u001b[39;49m\u001b[43mkwargs\u001b[49m\u001b[43m)\u001b[49m\n\u001b[1;32m    353\u001b[0m     \u001b[38;5;28;01mreturn\u001b[39;00m \u001b[38;5;28mself\u001b[39m\u001b[38;5;241m.\u001b[39m_split_op_result(result)\n",
      "File \u001b[0;32m~/opt/anaconda3/lib/python3.9/site-packages/pandas/core/groupby/groupby.py:3826\u001b[0m, in \u001b[0;36mGroupBy._get_cythonized_result.<locals>.blk_func\u001b[0;34m(values)\u001b[0m\n\u001b[1;32m   3823\u001b[0m \u001b[38;5;28;01mif\u001b[39;00m pre_processing:\n\u001b[1;32m   3824\u001b[0m     vals, inferences \u001b[38;5;241m=\u001b[39m pre_processing(vals)\n\u001b[0;32m-> 3826\u001b[0m vals \u001b[38;5;241m=\u001b[39m \u001b[43mvals\u001b[49m\u001b[38;5;241;43m.\u001b[39;49m\u001b[43mastype\u001b[49m\u001b[43m(\u001b[49m\u001b[43mcython_dtype\u001b[49m\u001b[43m,\u001b[49m\u001b[43m \u001b[49m\u001b[43mcopy\u001b[49m\u001b[38;5;241;43m=\u001b[39;49m\u001b[38;5;28;43;01mFalse\u001b[39;49;00m\u001b[43m)\u001b[49m\n\u001b[1;32m   3827\u001b[0m \u001b[38;5;28;01mif\u001b[39;00m vals\u001b[38;5;241m.\u001b[39mndim \u001b[38;5;241m==\u001b[39m \u001b[38;5;241m1\u001b[39m:\n\u001b[1;32m   3828\u001b[0m     vals \u001b[38;5;241m=\u001b[39m vals\u001b[38;5;241m.\u001b[39mreshape((\u001b[38;5;241m-\u001b[39m\u001b[38;5;241m1\u001b[39m, \u001b[38;5;241m1\u001b[39m))\n",
      "\u001b[0;31mValueError\u001b[0m: could not convert string to float: '0:00:00.055257'"
     ]
    }
   ],
   "source": [
    "df_mean = df.groupby(['n','r','eta_tilde']).mean()\n",
    "df_std = df.groupby(['n','r','eta_tilde']).std()"
   ]
  },
  {
   "cell_type": "code",
   "execution_count": 250,
   "id": "321fd367",
   "metadata": {},
   "outputs": [],
   "source": [
    "def ck_vs_eta_plot(df,n,r,theta_fit=None,xvar='normalized eta'):\n",
    "    df_subset = df[np.logical_and(df.n==n,df.r==r)]\n",
    "    df_subset_mean = df_mean.loc[n,r]\n",
    "    df_subset_std = df_std.loc[n,r]\n",
    "    df_subset.plot.scatter(xvar,'ck_mean_size',s=1)\n",
    "    plt.errorbar(df_subset_mean[xvar],df_subset_mean['ck_mean_size'],\n",
    "                 yerr=df_subset_std.ck_mean_size,ls='')\n",
    "#     plt.hlines([np.log2(r)],xmin=min(df_subset.eta),xmax=max(df_subset.eta),color='k')\n",
    "#     plt.hlines([np.log2(r)-1],xmin=min(df_subset.eta),xmax=max(df_subset.eta),color='k',ls='--')\n",
    "#     plt.hlines([np.log2(r)+1],xmin=min(df_subset.eta),xmax=max(df_subset.eta),color='k',ls='--')\n",
    "    plt.hlines([np.log2(r)],xmin=0,xmax=1,color='k')\n",
    "    plt.hlines([np.log2(r)-1],xmin=0,xmax=1,color='k',ls='--')\n",
    "    plt.hlines([np.log2(r)+1],xmin=0,xmax=1,color='k',ls='--')\n",
    "    \n",
    "    if theta_fit is not None:\n",
    "        # include linear model fit\n",
    "        \n",
    "        normed_etas = np.linspace(0,1,100)\n",
    "        predicted_ck_size = np.log2(r) + theta_fit[0] + theta_fit[1]*normed_etas + theta_fit[2]*n + theta_fit[3]*r\n",
    "        plt.plot(normed_etas,predicted_ck_size,lw=4)\n",
    "        \n",
    "#         etas = np.linspace(min(df_subset.eta),max(df_subset.eta),100)\n",
    "#         predicted_ck_size = np.log2(r) + theta_fit[0] + theta_fit[1]*etas/r + theta_fit[2]*n\n",
    "#         plt.plot(etas,predicted_ck_size,lw=4)"
   ]
  },
  {
   "cell_type": "code",
   "execution_count": 256,
   "id": "6ce911af",
   "metadata": {},
   "outputs": [
    {
     "data": {
      "image/png": "[encoded data removed]",
      "text/plain": [
       "<Figure size 640x480 with 1 Axes>"
      ]
     },
     "metadata": {},
     "output_type": "display_data"
    }
   ],
   "source": [
    "n = 8\n",
    "r = 5\n",
    "ck_vs_eta_plot(df,n,r,theta_fit)"
   ]
  },
  {
   "cell_type": "code",
   "execution_count": 270,
   "id": "18c02bf8",
   "metadata": {},
   "outputs": [
    {
     "data": {
      "text/plain": [
       "array([[0.01118379, 0.02041134, 0.02889965, ..., 0.98319754, 0.99220133,\n",
       "        1.        ],\n",
       "       [0.01118379, 0.02041134, 0.02889965, ..., 0.98319754, 0.99220133,\n",
       "        1.        ],\n",
       "       [0.01118379, 0.02041134, 0.02889965, ..., 0.98319754, 0.99220133,\n",
       "        1.        ],\n",
       "       ...,\n",
       "       [0.01118379, 0.02041134, 0.02889965, ..., 0.98319754, 0.99220133,\n",
       "        1.        ],\n",
       "       [0.01118379, 0.02041134, 0.02889965, ..., 0.98319754, 0.99220133,\n",
       "        1.        ],\n",
       "       [0.01118379, 0.02041134, 0.02889965, ..., 0.98319754, 0.99220133,\n",
       "        1.        ]])"
      ]
     },
     "execution_count": 270,
     "metadata": {},
     "output_type": "execute_result"
    }
   ],
   "source": [
    "np.meshgrid(X, Y)[0]"
   ]
  },
  {
   "cell_type": "code",
   "execution_count": 271,
   "id": "433e0bb4",
   "metadata": {},
   "outputs": [
    {
     "data": {
      "text/html": [
       "<div>\n",
       "<style scoped>\n",
       "    .dataframe tbody tr th:only-of-type {\n",
       "        vertical-align: middle;\n",
       "    }\n",
       "\n",
       "    .dataframe tbody tr th {\n",
       "        vertical-align: top;\n",
       "    }\n",
       "\n",
       "    .dataframe thead th {\n",
       "        text-align: right;\n",
       "    }\n",
       "</style>\n",
       "<table border=\"1\" class=\"dataframe\">\n",
       "  <thead>\n",
       "    <tr style=\"text-align: right;\">\n",
       "      <th></th>\n",
       "      <th></th>\n",
       "      <th></th>\n",
       "      <th>eta</th>\n",
       "      <th>seed</th>\n",
       "      <th>ck_mean_size</th>\n",
       "      <th>log2r</th>\n",
       "      <th>ck_mean_size_minus_log2r</th>\n",
       "      <th>normalized eta</th>\n",
       "    </tr>\n",
       "    <tr>\n",
       "      <th>n</th>\n",
       "      <th>r</th>\n",
       "      <th>eta_tilde</th>\n",
       "      <th></th>\n",
       "      <th></th>\n",
       "      <th></th>\n",
       "      <th></th>\n",
       "      <th></th>\n",
       "      <th></th>\n",
       "    </tr>\n",
       "  </thead>\n",
       "  <tbody>\n",
       "    <tr>\n",
       "      <th rowspan=\"5\" valign=\"top\">8</th>\n",
       "      <th rowspan=\"5\" valign=\"top\">2</th>\n",
       "      <th>0.036875</th>\n",
       "      <td>0.036875</td>\n",
       "      <td>1004.5</td>\n",
       "      <td>2.400000</td>\n",
       "      <td>1.000000</td>\n",
       "      <td>1.400000</td>\n",
       "      <td>0.036901</td>\n",
       "    </tr>\n",
       "    <tr>\n",
       "      <th>0.046603</th>\n",
       "      <td>0.036875</td>\n",
       "      <td>1004.5</td>\n",
       "      <td>2.200000</td>\n",
       "      <td>1.000000</td>\n",
       "      <td>1.200000</td>\n",
       "      <td>0.036901</td>\n",
       "    </tr>\n",
       "    <tr>\n",
       "      <th>0.056332</th>\n",
       "      <td>0.065914</td>\n",
       "      <td>1004.5</td>\n",
       "      <td>2.050000</td>\n",
       "      <td>1.000000</td>\n",
       "      <td>1.050000</td>\n",
       "      <td>0.065961</td>\n",
       "    </tr>\n",
       "    <tr>\n",
       "      <th>0.066060</th>\n",
       "      <td>0.065914</td>\n",
       "      <td>1004.5</td>\n",
       "      <td>2.050000</td>\n",
       "      <td>1.000000</td>\n",
       "      <td>1.050000</td>\n",
       "      <td>0.065961</td>\n",
       "    </tr>\n",
       "    <tr>\n",
       "      <th>0.075789</th>\n",
       "      <td>0.065914</td>\n",
       "      <td>1004.5</td>\n",
       "      <td>1.750000</td>\n",
       "      <td>1.000000</td>\n",
       "      <td>0.750000</td>\n",
       "      <td>0.065961</td>\n",
       "    </tr>\n",
       "    <tr>\n",
       "      <th>...</th>\n",
       "      <th>...</th>\n",
       "      <th>...</th>\n",
       "      <td>...</td>\n",
       "      <td>...</td>\n",
       "      <td>...</td>\n",
       "      <td>...</td>\n",
       "      <td>...</td>\n",
       "      <td>...</td>\n",
       "    </tr>\n",
       "    <tr>\n",
       "      <th rowspan=\"5\" valign=\"top\">12</th>\n",
       "      <th rowspan=\"5\" valign=\"top\">10</th>\n",
       "      <th>0.461868</th>\n",
       "      <td>0.461414</td>\n",
       "      <td>1004.5</td>\n",
       "      <td>4.250000</td>\n",
       "      <td>3.321928</td>\n",
       "      <td>0.928072</td>\n",
       "      <td>0.774430</td>\n",
       "    </tr>\n",
       "    <tr>\n",
       "      <th>0.495125</th>\n",
       "      <td>0.496304</td>\n",
       "      <td>1004.5</td>\n",
       "      <td>4.280000</td>\n",
       "      <td>3.321928</td>\n",
       "      <td>0.958072</td>\n",
       "      <td>0.832988</td>\n",
       "    </tr>\n",
       "    <tr>\n",
       "      <th>0.528381</th>\n",
       "      <td>0.529153</td>\n",
       "      <td>1004.5</td>\n",
       "      <td>4.220000</td>\n",
       "      <td>3.321928</td>\n",
       "      <td>0.898072</td>\n",
       "      <td>0.888121</td>\n",
       "    </tr>\n",
       "    <tr>\n",
       "      <th>0.561638</th>\n",
       "      <td>0.563101</td>\n",
       "      <td>1004.5</td>\n",
       "      <td>4.160000</td>\n",
       "      <td>3.321928</td>\n",
       "      <td>0.838072</td>\n",
       "      <td>0.945099</td>\n",
       "    </tr>\n",
       "    <tr>\n",
       "      <th>0.594894</th>\n",
       "      <td>0.595812</td>\n",
       "      <td>1001.0</td>\n",
       "      <td>3.766667</td>\n",
       "      <td>3.321928</td>\n",
       "      <td>0.444739</td>\n",
       "      <td>1.000000</td>\n",
       "    </tr>\n",
       "  </tbody>\n",
       "</table>\n",
       "<p>2609 rows × 6 columns</p>\n",
       "</div>"
      ],
      "text/plain": [
       "                      eta    seed  ck_mean_size     log2r  \\\n",
       "n  r  eta_tilde                                             \n",
       "8  2  0.036875   0.036875  1004.5      2.400000  1.000000   \n",
       "      0.046603   0.036875  1004.5      2.200000  1.000000   \n",
       "      0.056332   0.065914  1004.5      2.050000  1.000000   \n",
       "      0.066060   0.065914  1004.5      2.050000  1.000000   \n",
       "      0.075789   0.065914  1004.5      1.750000  1.000000   \n",
       "...                   ...     ...           ...       ...   \n",
       "12 10 0.461868   0.461414  1004.5      4.250000  3.321928   \n",
       "      0.495125   0.496304  1004.5      4.280000  3.321928   \n",
       "      0.528381   0.529153  1004.5      4.220000  3.321928   \n",
       "      0.561638   0.563101  1004.5      4.160000  3.321928   \n",
       "      0.594894   0.595812  1001.0      3.766667  3.321928   \n",
       "\n",
       "                 ck_mean_size_minus_log2r  normalized eta  \n",
       "n  r  eta_tilde                                            \n",
       "8  2  0.036875                   1.400000        0.036901  \n",
       "      0.046603                   1.200000        0.036901  \n",
       "      0.056332                   1.050000        0.065961  \n",
       "      0.066060                   1.050000        0.065961  \n",
       "      0.075789                   0.750000        0.065961  \n",
       "...                                   ...             ...  \n",
       "12 10 0.461868                   0.928072        0.774430  \n",
       "      0.495125                   0.958072        0.832988  \n",
       "      0.528381                   0.898072        0.888121  \n",
       "      0.561638                   0.838072        0.945099  \n",
       "      0.594894                   0.444739        1.000000  \n",
       "\n",
       "[2609 rows x 6 columns]"
      ]
     },
     "execution_count": 271,
     "metadata": {},
     "output_type": "execute_result"
    }
   ],
   "source": [
    "df_mean"
   ]
  },
  {
   "cell_type": "code",
   "execution_count": 287,
   "id": "d4088b18",
   "metadata": {},
   "outputs": [],
   "source": [
    "# output for mathematica 3D plot\n",
    "n = 10\n",
    "df_mean_n = df_mean.loc[n].reset_index()[['normalized eta','r','ck_mean_size_minus_log2r']]\n",
    "df_mean_n.to_csv('230831_mean_CK_vs_entropy_data.csv',index=False,header=False)\n",
    "#pd.DataFrame.to_csv()"
   ]
  },
  {
   "cell_type": "code",
   "execution_count": 274,
   "id": "a4d69b67",
   "metadata": {
    "collapsed": true
   },
   "outputs": [
    {
     "ename": "KeyError",
     "evalue": "(10, 2, 0.011183791775920635)",
     "output_type": "error",
     "traceback": [
      "\u001b[0;31m---------------------------------------------------------------------------\u001b[0m",
      "\u001b[0;31mKeyError\u001b[0m                                  Traceback (most recent call last)",
      "File \u001b[0;32m~/opt/anaconda3/lib/python3.9/site-packages/pandas/core/indexes/base.py:3802\u001b[0m, in \u001b[0;36mIndex.get_loc\u001b[0;34m(self, key, method, tolerance)\u001b[0m\n\u001b[1;32m   3801\u001b[0m \u001b[38;5;28;01mtry\u001b[39;00m:\n\u001b[0;32m-> 3802\u001b[0m     \u001b[38;5;28;01mreturn\u001b[39;00m \u001b[38;5;28;43mself\u001b[39;49m\u001b[38;5;241;43m.\u001b[39;49m\u001b[43m_engine\u001b[49m\u001b[38;5;241;43m.\u001b[39;49m\u001b[43mget_loc\u001b[49m\u001b[43m(\u001b[49m\u001b[43mcasted_key\u001b[49m\u001b[43m)\u001b[49m\n\u001b[1;32m   3803\u001b[0m \u001b[38;5;28;01mexcept\u001b[39;00m \u001b[38;5;167;01mKeyError\u001b[39;00m \u001b[38;5;28;01mas\u001b[39;00m err:\n",
      "File \u001b[0;32m~/opt/anaconda3/lib/python3.9/site-packages/pandas/_libs/index.pyx:138\u001b[0m, in \u001b[0;36mpandas._libs.index.IndexEngine.get_loc\u001b[0;34m()\u001b[0m\n",
      "File \u001b[0;32m~/opt/anaconda3/lib/python3.9/site-packages/pandas/_libs/index.pyx:165\u001b[0m, in \u001b[0;36mpandas._libs.index.IndexEngine.get_loc\u001b[0;34m()\u001b[0m\n",
      "File \u001b[0;32mpandas/_libs/hashtable_class_helper.pxi:1577\u001b[0m, in \u001b[0;36mpandas._libs.hashtable.Float64HashTable.get_item\u001b[0;34m()\u001b[0m\n",
      "File \u001b[0;32mpandas/_libs/hashtable_class_helper.pxi:1587\u001b[0m, in \u001b[0;36mpandas._libs.hashtable.Float64HashTable.get_item\u001b[0;34m()\u001b[0m\n",
      "\u001b[0;31mKeyError\u001b[0m: 0.011183791775920635",
      "\nThe above exception was the direct cause of the following exception:\n",
      "\u001b[0;31mKeyError\u001b[0m                                  Traceback (most recent call last)",
      "File \u001b[0;32m~/opt/anaconda3/lib/python3.9/site-packages/pandas/_libs/index.pyx:774\u001b[0m, in \u001b[0;36mpandas._libs.index.BaseMultiIndexCodesEngine.get_loc\u001b[0;34m()\u001b[0m\n",
      "File \u001b[0;32m~/opt/anaconda3/lib/python3.9/site-packages/pandas/core/indexes/base.py:3804\u001b[0m, in \u001b[0;36mIndex.get_loc\u001b[0;34m(self, key, method, tolerance)\u001b[0m\n\u001b[1;32m   3803\u001b[0m \u001b[38;5;28;01mexcept\u001b[39;00m \u001b[38;5;167;01mKeyError\u001b[39;00m \u001b[38;5;28;01mas\u001b[39;00m err:\n\u001b[0;32m-> 3804\u001b[0m     \u001b[38;5;28;01mraise\u001b[39;00m \u001b[38;5;167;01mKeyError\u001b[39;00m(key) \u001b[38;5;28;01mfrom\u001b[39;00m \u001b[38;5;21;01merr\u001b[39;00m\n\u001b[1;32m   3805\u001b[0m \u001b[38;5;28;01mexcept\u001b[39;00m \u001b[38;5;167;01mTypeError\u001b[39;00m:\n\u001b[1;32m   3806\u001b[0m     \u001b[38;5;66;03m# If we have a listlike key, _check_indexing_error will raise\u001b[39;00m\n\u001b[1;32m   3807\u001b[0m     \u001b[38;5;66;03m#  InvalidIndexError. Otherwise we fall through and re-raise\u001b[39;00m\n\u001b[1;32m   3808\u001b[0m     \u001b[38;5;66;03m#  the TypeError.\u001b[39;00m\n",
      "\u001b[0;31mKeyError\u001b[0m: 0.011183791775920635",
      "\nDuring handling of the above exception, another exception occurred:\n",
      "\u001b[0;31mKeyError\u001b[0m                                  Traceback (most recent call last)",
      "File \u001b[0;32m~/opt/anaconda3/lib/python3.9/site-packages/pandas/core/indexes/multi.py:3090\u001b[0m, in \u001b[0;36mMultiIndex._get_loc_level\u001b[0;34m(self, key, level)\u001b[0m\n\u001b[1;32m   3089\u001b[0m \u001b[38;5;28;01mtry\u001b[39;00m:\n\u001b[0;32m-> 3090\u001b[0m     \u001b[38;5;28;01mreturn\u001b[39;00m (\u001b[38;5;28;43mself\u001b[39;49m\u001b[38;5;241;43m.\u001b[39;49m\u001b[43m_engine\u001b[49m\u001b[38;5;241;43m.\u001b[39;49m\u001b[43mget_loc\u001b[49m\u001b[43m(\u001b[49m\u001b[43mkey\u001b[49m\u001b[43m)\u001b[49m, \u001b[38;5;28;01mNone\u001b[39;00m)\n\u001b[1;32m   3091\u001b[0m \u001b[38;5;28;01mexcept\u001b[39;00m \u001b[38;5;167;01mKeyError\u001b[39;00m \u001b[38;5;28;01mas\u001b[39;00m err:\n",
      "File \u001b[0;32m~/opt/anaconda3/lib/python3.9/site-packages/pandas/_libs/index.pyx:777\u001b[0m, in \u001b[0;36mpandas._libs.index.BaseMultiIndexCodesEngine.get_loc\u001b[0;34m()\u001b[0m\n",
      "\u001b[0;31mKeyError\u001b[0m: (10, 2, 0.011183791775920635)",
      "\nThe above exception was the direct cause of the following exception:\n",
      "\u001b[0;31mKeyError\u001b[0m                                  Traceback (most recent call last)",
      "Cell \u001b[0;32mIn[274], line 4\u001b[0m\n\u001b[1;32m      2\u001b[0m normed_etas \u001b[38;5;241m=\u001b[39m df_mean\u001b[38;5;241m.\u001b[39mloc[n]\u001b[38;5;241m.\u001b[39mreset_index()[\u001b[38;5;124m'\u001b[39m\u001b[38;5;124mnormalized eta\u001b[39m\u001b[38;5;124m'\u001b[39m]\n\u001b[1;32m      3\u001b[0m rs \u001b[38;5;241m=\u001b[39m df_mean\u001b[38;5;241m.\u001b[39mloc[n]\u001b[38;5;241m.\u001b[39mreset_index()[\u001b[38;5;124m'\u001b[39m\u001b[38;5;124mr\u001b[39m\u001b[38;5;124m'\u001b[39m]\n\u001b[0;32m----> 4\u001b[0m Z \u001b[38;5;241m=\u001b[39m [[ df_mean\u001b[38;5;241m.\u001b[39mloc[n,r,normed_eta] \u001b[38;5;28;01mfor\u001b[39;00m r \u001b[38;5;129;01min\u001b[39;00m rs ] \u001b[38;5;28;01mfor\u001b[39;00m normed_eta \u001b[38;5;129;01min\u001b[39;00m normed_etas ]\n\u001b[1;32m      5\u001b[0m X,Y \u001b[38;5;241m=\u001b[39m np\u001b[38;5;241m.\u001b[39mmeshgrid(normed_etas, rs)\n\u001b[1;32m      7\u001b[0m \u001b[38;5;28;01mfrom\u001b[39;00m \u001b[38;5;21;01mmatplotlib\u001b[39;00m \u001b[38;5;28;01mimport\u001b[39;00m cm\n",
      "Cell \u001b[0;32mIn[274], line 4\u001b[0m, in \u001b[0;36m<listcomp>\u001b[0;34m(.0)\u001b[0m\n\u001b[1;32m      2\u001b[0m normed_etas \u001b[38;5;241m=\u001b[39m df_mean\u001b[38;5;241m.\u001b[39mloc[n]\u001b[38;5;241m.\u001b[39mreset_index()[\u001b[38;5;124m'\u001b[39m\u001b[38;5;124mnormalized eta\u001b[39m\u001b[38;5;124m'\u001b[39m]\n\u001b[1;32m      3\u001b[0m rs \u001b[38;5;241m=\u001b[39m df_mean\u001b[38;5;241m.\u001b[39mloc[n]\u001b[38;5;241m.\u001b[39mreset_index()[\u001b[38;5;124m'\u001b[39m\u001b[38;5;124mr\u001b[39m\u001b[38;5;124m'\u001b[39m]\n\u001b[0;32m----> 4\u001b[0m Z \u001b[38;5;241m=\u001b[39m [[ df_mean\u001b[38;5;241m.\u001b[39mloc[n,r,normed_eta] \u001b[38;5;28;01mfor\u001b[39;00m r \u001b[38;5;129;01min\u001b[39;00m rs ] \u001b[38;5;28;01mfor\u001b[39;00m normed_eta \u001b[38;5;129;01min\u001b[39;00m normed_etas ]\n\u001b[1;32m      5\u001b[0m X,Y \u001b[38;5;241m=\u001b[39m np\u001b[38;5;241m.\u001b[39mmeshgrid(normed_etas, rs)\n\u001b[1;32m      7\u001b[0m \u001b[38;5;28;01mfrom\u001b[39;00m \u001b[38;5;21;01mmatplotlib\u001b[39;00m \u001b[38;5;28;01mimport\u001b[39;00m cm\n",
      "Cell \u001b[0;32mIn[274], line 4\u001b[0m, in \u001b[0;36m<listcomp>\u001b[0;34m(.0)\u001b[0m\n\u001b[1;32m      2\u001b[0m normed_etas \u001b[38;5;241m=\u001b[39m df_mean\u001b[38;5;241m.\u001b[39mloc[n]\u001b[38;5;241m.\u001b[39mreset_index()[\u001b[38;5;124m'\u001b[39m\u001b[38;5;124mnormalized eta\u001b[39m\u001b[38;5;124m'\u001b[39m]\n\u001b[1;32m      3\u001b[0m rs \u001b[38;5;241m=\u001b[39m df_mean\u001b[38;5;241m.\u001b[39mloc[n]\u001b[38;5;241m.\u001b[39mreset_index()[\u001b[38;5;124m'\u001b[39m\u001b[38;5;124mr\u001b[39m\u001b[38;5;124m'\u001b[39m]\n\u001b[0;32m----> 4\u001b[0m Z \u001b[38;5;241m=\u001b[39m [[ \u001b[43mdf_mean\u001b[49m\u001b[38;5;241;43m.\u001b[39;49m\u001b[43mloc\u001b[49m\u001b[43m[\u001b[49m\u001b[43mn\u001b[49m\u001b[43m,\u001b[49m\u001b[43mr\u001b[49m\u001b[43m,\u001b[49m\u001b[43mnormed_eta\u001b[49m\u001b[43m]\u001b[49m \u001b[38;5;28;01mfor\u001b[39;00m r \u001b[38;5;129;01min\u001b[39;00m rs ] \u001b[38;5;28;01mfor\u001b[39;00m normed_eta \u001b[38;5;129;01min\u001b[39;00m normed_etas ]\n\u001b[1;32m      5\u001b[0m X,Y \u001b[38;5;241m=\u001b[39m np\u001b[38;5;241m.\u001b[39mmeshgrid(normed_etas, rs)\n\u001b[1;32m      7\u001b[0m \u001b[38;5;28;01mfrom\u001b[39;00m \u001b[38;5;21;01mmatplotlib\u001b[39;00m \u001b[38;5;28;01mimport\u001b[39;00m cm\n",
      "File \u001b[0;32m~/opt/anaconda3/lib/python3.9/site-packages/pandas/core/indexing.py:1067\u001b[0m, in \u001b[0;36m_LocationIndexer.__getitem__\u001b[0;34m(self, key)\u001b[0m\n\u001b[1;32m   1065\u001b[0m     \u001b[38;5;28;01mif\u001b[39;00m \u001b[38;5;28mself\u001b[39m\u001b[38;5;241m.\u001b[39m_is_scalar_access(key):\n\u001b[1;32m   1066\u001b[0m         \u001b[38;5;28;01mreturn\u001b[39;00m \u001b[38;5;28mself\u001b[39m\u001b[38;5;241m.\u001b[39mobj\u001b[38;5;241m.\u001b[39m_get_value(\u001b[38;5;241m*\u001b[39mkey, takeable\u001b[38;5;241m=\u001b[39m\u001b[38;5;28mself\u001b[39m\u001b[38;5;241m.\u001b[39m_takeable)\n\u001b[0;32m-> 1067\u001b[0m     \u001b[38;5;28;01mreturn\u001b[39;00m \u001b[38;5;28;43mself\u001b[39;49m\u001b[38;5;241;43m.\u001b[39;49m\u001b[43m_getitem_tuple\u001b[49m\u001b[43m(\u001b[49m\u001b[43mkey\u001b[49m\u001b[43m)\u001b[49m\n\u001b[1;32m   1068\u001b[0m \u001b[38;5;28;01melse\u001b[39;00m:\n\u001b[1;32m   1069\u001b[0m     \u001b[38;5;66;03m# we by definition only have the 0th axis\u001b[39;00m\n\u001b[1;32m   1070\u001b[0m     axis \u001b[38;5;241m=\u001b[39m \u001b[38;5;28mself\u001b[39m\u001b[38;5;241m.\u001b[39maxis \u001b[38;5;129;01mor\u001b[39;00m \u001b[38;5;241m0\u001b[39m\n",
      "File \u001b[0;32m~/opt/anaconda3/lib/python3.9/site-packages/pandas/core/indexing.py:1247\u001b[0m, in \u001b[0;36m_LocIndexer._getitem_tuple\u001b[0;34m(self, tup)\u001b[0m\n\u001b[1;32m   1245\u001b[0m \u001b[38;5;28;01mwith\u001b[39;00m suppress(IndexingError):\n\u001b[1;32m   1246\u001b[0m     tup \u001b[38;5;241m=\u001b[39m \u001b[38;5;28mself\u001b[39m\u001b[38;5;241m.\u001b[39m_expand_ellipsis(tup)\n\u001b[0;32m-> 1247\u001b[0m     \u001b[38;5;28;01mreturn\u001b[39;00m \u001b[38;5;28;43mself\u001b[39;49m\u001b[38;5;241;43m.\u001b[39;49m\u001b[43m_getitem_lowerdim\u001b[49m\u001b[43m(\u001b[49m\u001b[43mtup\u001b[49m\u001b[43m)\u001b[49m\n\u001b[1;32m   1249\u001b[0m \u001b[38;5;66;03m# no multi-index, so validate all of the indexers\u001b[39;00m\n\u001b[1;32m   1250\u001b[0m tup \u001b[38;5;241m=\u001b[39m \u001b[38;5;28mself\u001b[39m\u001b[38;5;241m.\u001b[39m_validate_tuple_indexer(tup)\n",
      "File \u001b[0;32m~/opt/anaconda3/lib/python3.9/site-packages/pandas/core/indexing.py:959\u001b[0m, in \u001b[0;36m_LocationIndexer._getitem_lowerdim\u001b[0;34m(self, tup)\u001b[0m\n\u001b[1;32m    947\u001b[0m \u001b[38;5;28;01mif\u001b[39;00m (\n\u001b[1;32m    948\u001b[0m     \u001b[38;5;28misinstance\u001b[39m(ax0, MultiIndex)\n\u001b[1;32m    949\u001b[0m     \u001b[38;5;129;01mand\u001b[39;00m \u001b[38;5;28mself\u001b[39m\u001b[38;5;241m.\u001b[39mname \u001b[38;5;241m!=\u001b[39m \u001b[38;5;124m\"\u001b[39m\u001b[38;5;124miloc\u001b[39m\u001b[38;5;124m\"\u001b[39m\n\u001b[0;32m   (...)\u001b[0m\n\u001b[1;32m    954\u001b[0m     \u001b[38;5;66;03m#  is equivalent.\u001b[39;00m\n\u001b[1;32m    955\u001b[0m     \u001b[38;5;66;03m#  (see the other place where we call _handle_lowerdim_multi_index_axis0)\u001b[39;00m\n\u001b[1;32m    956\u001b[0m     \u001b[38;5;28;01mwith\u001b[39;00m suppress(IndexingError):\n\u001b[1;32m    957\u001b[0m         \u001b[38;5;66;03m# error \"_LocationIndexer\" has no attribute\u001b[39;00m\n\u001b[1;32m    958\u001b[0m         \u001b[38;5;66;03m# \"_handle_lowerdim_multi_index_axis0\"\u001b[39;00m\n\u001b[0;32m--> 959\u001b[0m         \u001b[38;5;28;01mreturn\u001b[39;00m \u001b[43mcast\u001b[49m\u001b[43m(\u001b[49m\u001b[43m_LocIndexer\u001b[49m\u001b[43m,\u001b[49m\u001b[43m \u001b[49m\u001b[38;5;28;43mself\u001b[39;49m\u001b[43m)\u001b[49m\u001b[38;5;241;43m.\u001b[39;49m\u001b[43m_handle_lowerdim_multi_index_axis0\u001b[49m\u001b[43m(\u001b[49m\u001b[43mtup\u001b[49m\u001b[43m)\u001b[49m\n\u001b[1;32m    961\u001b[0m tup \u001b[38;5;241m=\u001b[39m \u001b[38;5;28mself\u001b[39m\u001b[38;5;241m.\u001b[39m_validate_key_length(tup)\n\u001b[1;32m    963\u001b[0m \u001b[38;5;28;01mfor\u001b[39;00m i, key \u001b[38;5;129;01min\u001b[39;00m \u001b[38;5;28menumerate\u001b[39m(tup):\n",
      "File \u001b[0;32m~/opt/anaconda3/lib/python3.9/site-packages/pandas/core/indexing.py:1273\u001b[0m, in \u001b[0;36m_LocIndexer._handle_lowerdim_multi_index_axis0\u001b[0;34m(self, tup)\u001b[0m\n\u001b[1;32m   1269\u001b[0m \u001b[38;5;28;01mexcept\u001b[39;00m \u001b[38;5;167;01mKeyError\u001b[39;00m \u001b[38;5;28;01mas\u001b[39;00m ek:\n\u001b[1;32m   1270\u001b[0m     \u001b[38;5;66;03m# raise KeyError if number of indexers match\u001b[39;00m\n\u001b[1;32m   1271\u001b[0m     \u001b[38;5;66;03m# else IndexingError will be raised\u001b[39;00m\n\u001b[1;32m   1272\u001b[0m     \u001b[38;5;28;01mif\u001b[39;00m \u001b[38;5;28mself\u001b[39m\u001b[38;5;241m.\u001b[39mndim \u001b[38;5;241m<\u001b[39m \u001b[38;5;28mlen\u001b[39m(tup) \u001b[38;5;241m<\u001b[39m\u001b[38;5;241m=\u001b[39m \u001b[38;5;28mself\u001b[39m\u001b[38;5;241m.\u001b[39mobj\u001b[38;5;241m.\u001b[39mindex\u001b[38;5;241m.\u001b[39mnlevels:\n\u001b[0;32m-> 1273\u001b[0m         \u001b[38;5;28;01mraise\u001b[39;00m ek\n\u001b[1;32m   1274\u001b[0m     \u001b[38;5;28;01mraise\u001b[39;00m IndexingError(\u001b[38;5;124m\"\u001b[39m\u001b[38;5;124mNo label returned\u001b[39m\u001b[38;5;124m\"\u001b[39m) \u001b[38;5;28;01mfrom\u001b[39;00m \u001b[38;5;21;01mek\u001b[39;00m\n",
      "File \u001b[0;32m~/opt/anaconda3/lib/python3.9/site-packages/pandas/core/indexing.py:1267\u001b[0m, in \u001b[0;36m_LocIndexer._handle_lowerdim_multi_index_axis0\u001b[0;34m(self, tup)\u001b[0m\n\u001b[1;32m   1264\u001b[0m axis \u001b[38;5;241m=\u001b[39m \u001b[38;5;28mself\u001b[39m\u001b[38;5;241m.\u001b[39maxis \u001b[38;5;129;01mor\u001b[39;00m \u001b[38;5;241m0\u001b[39m\n\u001b[1;32m   1265\u001b[0m \u001b[38;5;28;01mtry\u001b[39;00m:\n\u001b[1;32m   1266\u001b[0m     \u001b[38;5;66;03m# fast path for series or for tup devoid of slices\u001b[39;00m\n\u001b[0;32m-> 1267\u001b[0m     \u001b[38;5;28;01mreturn\u001b[39;00m \u001b[38;5;28;43mself\u001b[39;49m\u001b[38;5;241;43m.\u001b[39;49m\u001b[43m_get_label\u001b[49m\u001b[43m(\u001b[49m\u001b[43mtup\u001b[49m\u001b[43m,\u001b[49m\u001b[43m \u001b[49m\u001b[43maxis\u001b[49m\u001b[38;5;241;43m=\u001b[39;49m\u001b[43maxis\u001b[49m\u001b[43m)\u001b[49m\n\u001b[1;32m   1269\u001b[0m \u001b[38;5;28;01mexcept\u001b[39;00m \u001b[38;5;167;01mKeyError\u001b[39;00m \u001b[38;5;28;01mas\u001b[39;00m ek:\n\u001b[1;32m   1270\u001b[0m     \u001b[38;5;66;03m# raise KeyError if number of indexers match\u001b[39;00m\n\u001b[1;32m   1271\u001b[0m     \u001b[38;5;66;03m# else IndexingError will be raised\u001b[39;00m\n\u001b[1;32m   1272\u001b[0m     \u001b[38;5;28;01mif\u001b[39;00m \u001b[38;5;28mself\u001b[39m\u001b[38;5;241m.\u001b[39mndim \u001b[38;5;241m<\u001b[39m \u001b[38;5;28mlen\u001b[39m(tup) \u001b[38;5;241m<\u001b[39m\u001b[38;5;241m=\u001b[39m \u001b[38;5;28mself\u001b[39m\u001b[38;5;241m.\u001b[39mobj\u001b[38;5;241m.\u001b[39mindex\u001b[38;5;241m.\u001b[39mnlevels:\n",
      "File \u001b[0;32m~/opt/anaconda3/lib/python3.9/site-packages/pandas/core/indexing.py:1260\u001b[0m, in \u001b[0;36m_LocIndexer._get_label\u001b[0;34m(self, label, axis)\u001b[0m\n\u001b[1;32m   1258\u001b[0m \u001b[38;5;28;01mdef\u001b[39;00m \u001b[38;5;21m_get_label\u001b[39m(\u001b[38;5;28mself\u001b[39m, label, axis: \u001b[38;5;28mint\u001b[39m):\n\u001b[1;32m   1259\u001b[0m     \u001b[38;5;66;03m# GH#5567 this will fail if the label is not present in the axis.\u001b[39;00m\n\u001b[0;32m-> 1260\u001b[0m     \u001b[38;5;28;01mreturn\u001b[39;00m \u001b[38;5;28;43mself\u001b[39;49m\u001b[38;5;241;43m.\u001b[39;49m\u001b[43mobj\u001b[49m\u001b[38;5;241;43m.\u001b[39;49m\u001b[43mxs\u001b[49m\u001b[43m(\u001b[49m\u001b[43mlabel\u001b[49m\u001b[43m,\u001b[49m\u001b[43m \u001b[49m\u001b[43maxis\u001b[49m\u001b[38;5;241;43m=\u001b[39;49m\u001b[43maxis\u001b[49m\u001b[43m)\u001b[49m\n",
      "File \u001b[0;32m~/opt/anaconda3/lib/python3.9/site-packages/pandas/core/generic.py:4049\u001b[0m, in \u001b[0;36mNDFrame.xs\u001b[0;34m(self, key, axis, level, drop_level)\u001b[0m\n\u001b[1;32m   4046\u001b[0m \u001b[38;5;28mself\u001b[39m\u001b[38;5;241m.\u001b[39m_consolidate_inplace()\n\u001b[1;32m   4048\u001b[0m \u001b[38;5;28;01mif\u001b[39;00m \u001b[38;5;28misinstance\u001b[39m(index, MultiIndex):\n\u001b[0;32m-> 4049\u001b[0m     loc, new_index \u001b[38;5;241m=\u001b[39m \u001b[43mindex\u001b[49m\u001b[38;5;241;43m.\u001b[39;49m\u001b[43m_get_loc_level\u001b[49m\u001b[43m(\u001b[49m\u001b[43mkey\u001b[49m\u001b[43m,\u001b[49m\u001b[43m \u001b[49m\u001b[43mlevel\u001b[49m\u001b[38;5;241;43m=\u001b[39;49m\u001b[38;5;241;43m0\u001b[39;49m\u001b[43m)\u001b[49m\n\u001b[1;32m   4050\u001b[0m     \u001b[38;5;28;01mif\u001b[39;00m \u001b[38;5;129;01mnot\u001b[39;00m drop_level:\n\u001b[1;32m   4051\u001b[0m         \u001b[38;5;28;01mif\u001b[39;00m lib\u001b[38;5;241m.\u001b[39mis_integer(loc):\n",
      "File \u001b[0;32m~/opt/anaconda3/lib/python3.9/site-packages/pandas/core/indexes/multi.py:3092\u001b[0m, in \u001b[0;36mMultiIndex._get_loc_level\u001b[0;34m(self, key, level)\u001b[0m\n\u001b[1;32m   3090\u001b[0m     \u001b[38;5;28;01mreturn\u001b[39;00m (\u001b[38;5;28mself\u001b[39m\u001b[38;5;241m.\u001b[39m_engine\u001b[38;5;241m.\u001b[39mget_loc(key), \u001b[38;5;28;01mNone\u001b[39;00m)\n\u001b[1;32m   3091\u001b[0m \u001b[38;5;28;01mexcept\u001b[39;00m \u001b[38;5;167;01mKeyError\u001b[39;00m \u001b[38;5;28;01mas\u001b[39;00m err:\n\u001b[0;32m-> 3092\u001b[0m     \u001b[38;5;28;01mraise\u001b[39;00m \u001b[38;5;167;01mKeyError\u001b[39;00m(key) \u001b[38;5;28;01mfrom\u001b[39;00m \u001b[38;5;21;01merr\u001b[39;00m\n\u001b[1;32m   3093\u001b[0m \u001b[38;5;28;01mexcept\u001b[39;00m \u001b[38;5;167;01mTypeError\u001b[39;00m:\n\u001b[1;32m   3094\u001b[0m     \u001b[38;5;66;03m# e.g. partial string indexing\u001b[39;00m\n\u001b[1;32m   3095\u001b[0m     \u001b[38;5;66;03m#  test_partial_string_timestamp_multiindex\u001b[39;00m\n\u001b[1;32m   3096\u001b[0m     \u001b[38;5;28;01mpass\u001b[39;00m\n",
      "\u001b[0;31mKeyError\u001b[0m: (10, 2, 0.011183791775920635)"
     ]
    }
   ],
   "source": [
    "# trying to make 3D surface plot---difficult because we don't have the same ste of eta values for each value of r\n",
    "\n",
    "n = 10\n",
    "normed_etas = df_mean.loc[n].reset_index()['normalized eta']\n",
    "rs = df_mean.loc[n].reset_index()['r']\n",
    "Z = [[ df_mean.loc[n,r,normed_eta] for r in rs ] for normed_eta in normed_etas ]\n",
    "X,Y = np.meshgrid(normed_etas, rs)\n",
    "\n",
    "from matplotlib import cm\n",
    "fig, ax = plt.subplots(subplot_kw={\"projection\": \"3d\"})\n",
    "surf = ax.plot_surface(X, Y, Z, cmap=cm.coolwarm,\n",
    "                       linewidth=0, antialiased=False)"
   ]
  },
  {
   "cell_type": "code",
   "execution_count": 88,
   "id": "df399093",
   "metadata": {},
   "outputs": [
    {
     "name": "stderr",
     "output_type": "stream",
     "text": [
      "/var/folders/2y/r9yfmnys37xd00fknrv2tgym0000gn/T/ipykernel_95067/586784285.py:2: FutureWarning: The default value of numeric_only in DataFrameGroupBy.mean is deprecated. In a future version, numeric_only will default to False. Either specify numeric_only or select only columns which should be valid for the function.\n",
      "  df_subset = df.groupby(['r','n']).mean().reset_index('n')\n"
     ]
    },
    {
     "data": {
      "text/plain": [
       "<matplotlib.collections.LineCollection at 0x7ff623b59220>"
      ]
     },
     "execution_count": 88,
     "metadata": {},
     "output_type": "execute_result"
    },
    {
     "data": {
      "image/png": "[encoded data removed]",
      "text/plain": [
       "<Figure size 640x480 with 1 Axes>"
      ]
     },
     "metadata": {},
     "output_type": "display_data"
    }
   ],
   "source": [
    "r = 50\n",
    "df_subset = df.groupby(['r','n']).mean().reset_index('n')\n",
    "df_subset.loc[r].plot.scatter('n','ck_mean_size')\n",
    "plt.hlines([np.log2(r)],xmin=min(df_subset.n),xmax=max(df_subset.n),color='k')\n",
    "plt.hlines([np.log2(r)-1],xmin=min(df_subset.n),xmax=max(df_subset.n),color='k',ls='--')\n",
    "plt.hlines([np.log2(r)+1],xmin=min(df_subset.n),xmax=max(df_subset.n),color='k',ls='--')"
   ]
  },
  {
   "cell_type": "code",
   "execution_count": 92,
   "id": "5172b9c1",
   "metadata": {},
   "outputs": [],
   "source": [
    "def linear_fit(df,features_columns,output_column):\n",
    "    # design matrix\n",
    "    X = np.array(df[features_columns])\n",
    "    ones = [[1]]*len(X)\n",
    "    Xd = np.hstack((ones,X));\n",
    "\n",
    "    # parameters\n",
    "    theta = np.dot(np.dot(np.linalg.inv(np.dot(Xd.T,Xd)),Xd.T),df[output_column])\n",
    "    \n",
    "    return theta"
   ]
  },
  {
   "cell_type": "code",
   "execution_count": 231,
   "id": "e25e9e3a",
   "metadata": {},
   "outputs": [],
   "source": [
    "# construct other features\n",
    "df['log2r'] = np.log2(df['r'])\n",
    "df['ck_mean_size_minus_log2r'] = df['ck_mean_size'] - df['log2r']\n",
    "df['normalized eta'] = df[['n','r','eta']].groupby(['n','r']).transform(lambda x: x / x.max())\n",
    "df['r/eta'] = df['r']/df['eta']"
   ]
  },
  {
   "cell_type": "code",
   "execution_count": 246,
   "id": "a7b1d9f8",
   "metadata": {},
   "outputs": [
    {
     "name": "stdout",
     "output_type": "stream",
     "text": [
      "['bias', 'normalized eta', 'n', 'r']\n",
      "[ 0.86631433 -0.8903174   0.00580825 -0.01142858]\n"
     ]
    }
   ],
   "source": [
    "features = ['normalized eta','n','r']\n",
    "theta_fit = linear_fit(df,features,'ck_mean_size_minus_log2r')\n",
    "print(['bias'] + features)\n",
    "print(theta_fit)"
   ]
  },
  {
   "cell_type": "code",
   "execution_count": 210,
   "id": "a4733802",
   "metadata": {},
   "outputs": [],
   "source": [
    "df_features = [np.ones_like(df.n),df['normalized eta'],df.n,df.r]\n",
    "df['predicted ck mean size'] = df.log2r + np.dot(theta_fit,df_features)"
   ]
  },
  {
   "cell_type": "code",
   "execution_count": 215,
   "id": "01fafc6b",
   "metadata": {},
   "outputs": [
    {
     "data": {
      "text/plain": [
       "[<matplotlib.lines.Line2D at 0x7ff5e2e50d90>]"
      ]
     },
     "execution_count": 215,
     "metadata": {},
     "output_type": "execute_result"
    },
    {
     "data": {
      "image/png": "[encoded data removed]",
      "text/plain": [
       "<Figure size 640x480 with 1 Axes>"
      ]
     },
     "metadata": {},
     "output_type": "display_data"
    }
   ],
   "source": [
    "df.plot.scatter('ck_mean_size','predicted ck mean size')\n",
    "plt.plot([1,7],[1,7],'k')"
   ]
  },
  {
   "cell_type": "code",
   "execution_count": null,
   "id": "cd4fad05",
   "metadata": {},
   "outputs": [],
   "source": []
  }
 ],
 "metadata": {
  "kernelspec": {
   "display_name": "Python 3 (ipykernel)",
   "language": "python",
   "name": "python3"
  },
  "language_info": {
   "codemirror_mode": {
    "name": "ipython",
    "version": 3
   },
   "file_extension": ".py",
   "mimetype": "text/x-python",
   "name": "python",
   "nbconvert_exporter": "python",
   "pygments_lexer": "ipython3",
   "version": "3.9.16"
  }
 },
 "nbformat": 4,
 "nbformat_minor": 5
}

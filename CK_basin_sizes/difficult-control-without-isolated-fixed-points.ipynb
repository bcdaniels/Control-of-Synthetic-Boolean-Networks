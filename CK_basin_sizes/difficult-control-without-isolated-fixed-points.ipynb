{
 "cells": [
  {
   "cell_type": "code",
   "execution_count": null,
   "id": "e4c2a08a-9eb1-4285-bb2f-6d71bc8a4333",
   "metadata": {},
   "outputs": [],
   "source": [
    "# difficult-control-without-isolated-fixed-points.ipynb\n",
    "#\n",
    "# Bryan Daniels\n",
    "# 2024/2/23\n",
    "#\n",
    "# Can we construct examples of networks that are difficult to control (with maximal control kernel\n",
    "# sizes) that do not have isolated fixed points?\n",
    "#"
   ]
  },
  {
   "cell_type": "code",
   "execution_count": 22,
   "id": "0b26bf2f-3585-4435-9823-a902ee96a71b",
   "metadata": {},
   "outputs": [],
   "source": [
    "from neet.boolean import LogicNetwork\n",
    "from neet.controlkernel import control_kernel_analysis\n",
    "from preimages import isolated_list\n",
    "from neet import UniformSpace\n",
    "import numpy as np"
   ]
  },
  {
   "cell_type": "code",
   "execution_count": 9,
   "id": "49f009d3-6168-42da-a327-2255ce087c60",
   "metadata": {},
   "outputs": [],
   "source": [
    "table3 = [((0,1,2),{'001','010','100','011','110','101'}),\n",
    "          ((0,1,2),{'011','110','101'}),\n",
    "          ((0,1,2),{'011','110','101'})]"
   ]
  },
  {
   "cell_type": "code",
   "execution_count": 10,
   "id": "ba735577-dcfe-46ee-b2d6-5c142fef619b",
   "metadata": {},
   "outputs": [],
   "source": [
    "net3 = LogicNetwork(table3)"
   ]
  },
  {
   "cell_type": "code",
   "execution_count": 15,
   "id": "0390b8d5-3e70-44e4-847a-ad8333a538af",
   "metadata": {},
   "outputs": [
    {
     "data": {
      "text/plain": [
       "[0, 0, 0]"
      ]
     },
     "execution_count": 15,
     "metadata": {},
     "output_type": "execute_result"
    }
   ],
   "source": [
    "net3.update([1,1,1])"
   ]
  },
  {
   "cell_type": "code",
   "execution_count": 41,
   "id": "a1b822c0-2625-404b-bce0-42dced390682",
   "metadata": {},
   "outputs": [],
   "source": [
    "def conditions_given_sums(slist,n):\n",
    "    \"\"\"\n",
    "    Return all boolean conditions that have a sum that matches a number in slist.\n",
    "    \"\"\"\n",
    "    conditions = set()\n",
    "    for state in UniformSpace(n,2):\n",
    "        if np.sum(state) in slist:\n",
    "            conditions.add(tuple(state))\n",
    "    return conditions"
   ]
  },
  {
   "cell_type": "code",
   "execution_count": 48,
   "id": "adafa812-95b3-4914-b596-cff3f44e012b",
   "metadata": {},
   "outputs": [],
   "source": [
    "def difficult_net(n):\n",
    "    first_node_conditions = conditions_given_sums(range(1,n),n)\n",
    "    other_node_conditions = conditions_given_sums(range(2,n),n)\n",
    "    table = [ (tuple(range(n)),first_node_conditions), ]\n",
    "    for i in range(1,n):\n",
    "        table.append( (tuple(range(n)),other_node_conditions) )\n",
    "    return LogicNetwork(table)"
   ]
  },
  {
   "cell_type": "code",
   "execution_count": 74,
   "id": "f8286560-4117-4b20-83b8-53957a5edb3d",
   "metadata": {},
   "outputs": [
    {
     "name": "stdout",
     "output_type": "stream",
     "text": [
      "Finding attractors and control kernels...\n",
      "\n",
      "Network has 2 attractors:\n",
      "[[[0, 0, 0, 0, 0, 0, 0, 0, 0]], [[1, 0, 0, 0, 0, 0, 0, 0, 0]]]\n",
      "\n",
      "Basin sizes:\n",
      "[503   9]\n",
      "\n",
      "Control kernel sizes:\n",
      "[8, 9]\n",
      "\n"
     ]
    }
   ],
   "source": [
    "net = difficult_net(9)\n",
    "ckdata = control_kernel_analysis.ck_analysis(net)\n",
    "print()\n",
    "print(\"Network has {} attractors:\\n{}\\n\".format(len(net.attractors),[[net.decode(state) for state in att ] for att in net.attractors]))\n",
    "print(\"Basin sizes:\\n{}\\n\".format(net.basin_sizes))\n",
    "print(\"Control kernel sizes:\\n{}\\n\".format(ckdata['control_kernel_sizes']))"
   ]
  },
  {
   "cell_type": "code",
   "execution_count": null,
   "id": "363ba9ed-59d3-4360-b80d-891110695f66",
   "metadata": {},
   "outputs": [],
   "source": []
  }
 ],
 "metadata": {
  "kernelspec": {
   "display_name": "Python 3 (ipykernel)",
   "language": "python",
   "name": "python3"
  },
  "language_info": {
   "codemirror_mode": {
    "name": "ipython",
    "version": 3
   },
   "file_extension": ".py",
   "mimetype": "text/x-python",
   "name": "python",
   "nbconvert_exporter": "python",
   "pygments_lexer": "ipython3",
   "version": "3.9.18"
  }
 },
 "nbformat": 4,
 "nbformat_minor": 5
}

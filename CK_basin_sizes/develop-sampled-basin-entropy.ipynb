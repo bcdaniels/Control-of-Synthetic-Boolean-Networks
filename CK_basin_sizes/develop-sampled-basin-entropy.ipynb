{
 "cells": [
  {
   "cell_type": "code",
   "execution_count": null,
   "id": "e489282a",
   "metadata": {},
   "outputs": [],
   "source": [
    "# develop-sampled-basin-entropy.ipynb\n",
    "#\n",
    "# Bryan Daniels\n",
    "# 2023/12/7\n",
    "#\n",
    "# Can we use sampling to get a good estimate of the basin entropy if all attractors are known?\n",
    "#"
   ]
  },
  {
   "cell_type": "code",
   "execution_count": 4,
   "id": "deccb918",
   "metadata": {},
   "outputs": [
    {
     "data": {
      "text/plain": [
       "<module 'neet.controlkernel.modularity' from '/Users/bdaniel6/packages/Neet/neet/controlkernel/modularity.py'>"
      ]
     },
     "execution_count": 4,
     "metadata": {},
     "output_type": "execute_result"
    }
   ],
   "source": [
    "from neet.boolean import LogicNetwork\n",
    "import neet.controlkernel.modularity as md\n",
    "import random\n",
    "from importlib import reload\n",
    "reload(md)"
   ]
  },
  {
   "cell_type": "markdown",
   "id": "79effbd9",
   "metadata": {},
   "source": [
    "# get sampled basin counts"
   ]
  },
  {
   "cell_type": "code",
   "execution_count": 61,
   "id": "87b51f84",
   "metadata": {},
   "outputs": [],
   "source": [
    "table = [((0,1,2),{'001','010','011','101','110'}),\n",
    "                 ((0,1,2),{'010','011','110'}),\n",
    "                 ((0,1,2),{'001','011','101'})]\n",
    "net = LogicNetwork(table)"
   ]
  },
  {
   "cell_type": "code",
   "execution_count": 72,
   "id": "86af64bc",
   "metadata": {},
   "outputs": [
    {
     "data": {
      "text/plain": [
       "(array([[0],\n",
       "        [3],\n",
       "        [5]]),\n",
       " [4, 2, 2])"
      ]
     },
     "execution_count": 72,
     "metadata": {},
     "output_type": "execute_result"
    }
   ],
   "source": [
    "md.sampled_basin_counts(net)"
   ]
  },
  {
   "cell_type": "code",
   "execution_count": 4,
   "id": "54de11ae",
   "metadata": {},
   "outputs": [],
   "source": [
    "from neet.boolean.examples import s_pombe, s_cerevisiae"
   ]
  },
  {
   "cell_type": "code",
   "execution_count": 67,
   "id": "9d957465",
   "metadata": {},
   "outputs": [
    {
     "name": "stderr",
     "output_type": "stream",
     "text": [
      "/Users/bdaniel6/packages/Neet/neet/landscape.py:1118: VisibleDeprecationWarning: Creating an ndarray from ragged nested sequences (which is a list-or-tuple of lists-or-tuples-or ndarrays with different lengths or shapes) is deprecated. If you meant to do this, you must specify 'dtype=object' when creating the ndarray.\n",
      "  data.attractors = np.asarray(attractor_paths)\n",
      "/Users/bdaniel6/packages/Neet/neet/controlkernel/modularity.py:630: VisibleDeprecationWarning: Creating an ndarray from ragged nested sequences (which is a list-or-tuple of lists-or-tuples-or ndarrays with different lengths or shapes) is deprecated. If you meant to do this, you must specify 'dtype=object' when creating the ndarray.\n",
      "  \n"
     ]
    }
   ],
   "source": [
    "atts_md,basin_sizes = md.sampled_basin_counts(s_pombe)"
   ]
  },
  {
   "cell_type": "code",
   "execution_count": 69,
   "id": "187c614d",
   "metadata": {},
   "outputs": [
    {
     "data": {
      "text/plain": [
       "[378, 2, 2, 2, 104, 6, 6, 2, 2, 2, 2, 2, 2]"
      ]
     },
     "execution_count": 69,
     "metadata": {},
     "output_type": "execute_result"
    }
   ],
   "source": [
    "basin_sizes"
   ]
  },
  {
   "cell_type": "code",
   "execution_count": 70,
   "id": "96761333",
   "metadata": {},
   "outputs": [
    {
     "data": {
      "text/plain": [
       "array([378,   2,   2,   2, 104,   6,   6,   2,   2,   2,   2,   2,   2])"
      ]
     },
     "execution_count": 70,
     "metadata": {},
     "output_type": "execute_result"
    }
   ],
   "source": [
    "s_pombe.basin_sizes"
   ]
  },
  {
   "cell_type": "markdown",
   "id": "ddb3ece2",
   "metadata": {},
   "source": [
    "# estimate uncertainties in counts and in basin entropy"
   ]
  },
  {
   "cell_type": "code",
   "execution_count": 5,
   "id": "77751176",
   "metadata": {},
   "outputs": [
    {
     "name": "stderr",
     "output_type": "stream",
     "text": [
      "/Users/bdaniel6/packages/Neet/neet/landscape.py:1118: VisibleDeprecationWarning: Creating an ndarray from ragged nested sequences (which is a list-or-tuple of lists-or-tuples-or ndarrays with different lengths or shapes) is deprecated. If you meant to do this, you must specify 'dtype=object' when creating the ndarray.\n",
      "  data.attractors = np.asarray(attractor_paths)\n",
      "/Users/bdaniel6/packages/Neet/neet/controlkernel/modularity.py:632: VisibleDeprecationWarning: Creating an ndarray from ragged nested sequences (which is a list-or-tuple of lists-or-tuples-or ndarrays with different lengths or shapes) is deprecated. If you meant to do this, you must specify 'dtype=object' when creating the ndarray.\n",
      "  a = np.asarray( encode_attractors(a) )\n"
     ]
    },
    {
     "data": {
      "text/plain": [
       "(1.246531259739369, 0.07597820215740052)"
      ]
     },
     "execution_count": 5,
     "metadata": {},
     "output_type": "execute_result"
    }
   ],
   "source": [
    "md.sampled_basin_entropy_NSB(s_pombe)"
   ]
  },
  {
   "cell_type": "code",
   "execution_count": 6,
   "id": "005259e4",
   "metadata": {},
   "outputs": [
    {
     "data": {
      "text/plain": [
       "9"
      ]
     },
     "execution_count": 6,
     "metadata": {},
     "output_type": "execute_result"
    }
   ],
   "source": [
    "s_pombe.size"
   ]
  },
  {
   "cell_type": "code",
   "execution_count": 7,
   "id": "9f0a0c85",
   "metadata": {},
   "outputs": [
    {
     "data": {
      "text/plain": [
       "1.2218888338849747"
      ]
     },
     "execution_count": 7,
     "metadata": {},
     "output_type": "execute_result"
    }
   ],
   "source": [
    "s_pombe.basin_entropy"
   ]
  },
  {
   "cell_type": "code",
   "execution_count": 8,
   "id": "aab6eb7e",
   "metadata": {},
   "outputs": [],
   "source": [
    "table = [((0,1,2),{'001','010','011','101','110'}),\n",
    "                 ((0,1,2),{'010','011','110'}),\n",
    "                 ((0,1,2),{'001','011','101'})]\n",
    "net = LogicNetwork(table)"
   ]
  },
  {
   "cell_type": "code",
   "execution_count": 9,
   "id": "0f2b46b0",
   "metadata": {},
   "outputs": [
    {
     "data": {
      "text/plain": [
       "(1.4575195692864567, 0.13815644044230516)"
      ]
     },
     "execution_count": 9,
     "metadata": {},
     "output_type": "execute_result"
    }
   ],
   "source": [
    "md.sampled_basin_entropy_NSB(net)"
   ]
  },
  {
   "cell_type": "code",
   "execution_count": 10,
   "id": "5971e246",
   "metadata": {},
   "outputs": [
    {
     "data": {
      "text/plain": [
       "1.5"
      ]
     },
     "execution_count": 10,
     "metadata": {},
     "output_type": "execute_result"
    }
   ],
   "source": [
    "net.basin_entropy"
   ]
  },
  {
   "cell_type": "markdown",
   "id": "1ec48600",
   "metadata": {},
   "source": [
    "# try on cell collective "
   ]
  },
  {
   "cell_type": "code",
   "execution_count": 1,
   "id": "b2ee2cc9",
   "metadata": {},
   "outputs": [],
   "source": [
    "from cellCollective import load_all_cell_collective_networks"
   ]
  },
  {
   "cell_type": "code",
   "execution_count": 1,
   "id": "ebd3ff32",
   "metadata": {},
   "outputs": [
    {
     "ename": "ModuleNotFoundError",
     "evalue": "No module named 'cellCollective'",
     "output_type": "error",
     "traceback": [
      "\u001b[0;31m---------------------------------------------------------------------------\u001b[0m",
      "\u001b[0;31mModuleNotFoundError\u001b[0m                       Traceback (most recent call last)",
      "Cell \u001b[0;32mIn[1], line 1\u001b[0m\n\u001b[0;32m----> 1\u001b[0m \u001b[38;5;28;01mfrom\u001b[39;00m \u001b[38;5;21;01mcellCollective\u001b[39;00m \u001b[38;5;28;01mimport\u001b[39;00m load_cell_collective_network_from_index\n",
      "\u001b[0;31mModuleNotFoundError\u001b[0m: No module named 'cellCollective'"
     ]
    }
   ],
   "source": [
    "from cellCollective import load_cell_collective_network_from_index"
   ]
  },
  {
   "cell_type": "code",
   "execution_count": 2,
   "id": "13b84bc3",
   "metadata": {},
   "outputs": [],
   "source": [
    "cell_collective_directory = '../../Data/Cell Collective/'\n",
    "netDict = load_all_cell_collective_networks(cell_collective_directory)"
   ]
  },
  {
   "cell_type": "code",
   "execution_count": 3,
   "id": "8dbbbfa3",
   "metadata": {},
   "outputs": [],
   "source": [
    "net = netDict['BT474_Breast_Cell_Line_Long-term_ErbB_Network']"
   ]
  },
  {
   "cell_type": "code",
   "execution_count": 4,
   "id": "d50d2a52",
   "metadata": {},
   "outputs": [
    {
     "data": {
      "text/plain": [
       "25"
      ]
     },
     "execution_count": 4,
     "metadata": {},
     "output_type": "execute_result"
    }
   ],
   "source": [
    "net.size"
   ]
  },
  {
   "cell_type": "code",
   "execution_count": 18,
   "id": "3fd3342d",
   "metadata": {},
   "outputs": [
    {
     "data": {
      "text/plain": [
       "(8.92979804971478, 0.02118814307616615)"
      ]
     },
     "execution_count": 18,
     "metadata": {},
     "output_type": "execute_result"
    }
   ],
   "source": [
    "md.sampled_basin_entropy_NSB(net)"
   ]
  },
  {
   "cell_type": "code",
   "execution_count": null,
   "id": "73cfb8a4",
   "metadata": {},
   "outputs": [],
   "source": []
  }
 ],
 "metadata": {
  "kernelspec": {
   "display_name": "Python 3 (ipykernel)",
   "language": "python",
   "name": "python3"
  },
  "language_info": {
   "codemirror_mode": {
    "name": "ipython",
    "version": 3
   },
   "file_extension": ".py",
   "mimetype": "text/x-python",
   "name": "python",
   "nbconvert_exporter": "python",
   "pygments_lexer": "ipython3",
   "version": "3.9.16"
  }
 },
 "nbformat": 4,
 "nbformat_minor": 5
}

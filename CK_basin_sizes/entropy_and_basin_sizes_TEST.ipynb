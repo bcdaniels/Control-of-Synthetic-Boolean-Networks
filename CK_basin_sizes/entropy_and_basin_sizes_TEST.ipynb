{
 "cells": [
  {
   "cell_type": "code",
   "execution_count": 35,
   "id": "74a97e1a",
   "metadata": {},
   "outputs": [],
   "source": [
    "# develop-entropy-to-basin-sizes.ipynb\n",
    "#\n",
    "# Bryan Daniels / Enrico Borriello\n",
    "# 2023/6/7\n",
    "#\n",
    "# Goal: function that produces a list of basin sizes that corresponds to a given basin entropy.\n",
    "#\n",
    "# Jun 14, 2023\n",
    "# New Goal: generate actual values of h_tilde, generate attractor landscape an evaluate CKs."
   ]
  },
  {
   "cell_type": "code",
   "execution_count": 1,
   "id": "b0e0debe",
   "metadata": {},
   "outputs": [],
   "source": [
    "import numpy as np\n",
    "import scipy.optimize\n",
    "import matplotlib.pyplot as plt"
   ]
  },
  {
   "cell_type": "code",
   "execution_count": 2,
   "id": "218026c1",
   "metadata": {},
   "outputs": [],
   "source": [
    "def basin_entropy(w):\n",
    "    # use masked array (ma) to avoid problems with zero\n",
    "    return -np.dot(w,np.ma.log2(w).filled(0.))"
   ]
  },
  {
   "cell_type": "code",
   "execution_count": 116,
   "id": "733e10af",
   "metadata": {},
   "outputs": [],
   "source": [
    "def entropy_to_relative_basin_sizes(h_tilde,r,n,tol=1e-3):\n",
    "    \n",
    "    h_tilde_min = (r-1)*n/2**n -(1-(r-1)/2**n)*np.log2((1-(r-1)/2**n))\n",
    "    \n",
    "    if h_tilde > np.log2(r): \n",
    "        raise ValueError(\"Basin entropy cannot be larger than log2(r)\")\n",
    "        \n",
    "    if h_tilde < h_tilde_min:\n",
    "        raise Exception(\"h_tilde below h_tilde_min = \"+str(h_tilde_min))\n",
    "        \n",
    "    func = lambda w: (basin_entropy(w) - h_tilde)**2\n",
    "    w0 = [ (i+1)/(r*(r+1)/2) for i in range(r) ]\n",
    "    normConstraint = scipy.optimize.LinearConstraint(np.ones(r),lb=1.,ub=1.)\n",
    "    bound = scipy.optimize.Bounds(lb=1./2**n,ub=1.)\n",
    "    solution = scipy.optimize.minimize(func,w0,constraints=normConstraint,bounds=bound)\n",
    "    if solution.success and np.sqrt(solution.fun) < tol:\n",
    "        return solution.x\n",
    "    else:\n",
    "        raise Exception(\"Solution not found within given tolerance\")"
   ]
  },
  {
   "cell_type": "code",
   "execution_count": 101,
   "id": "18d61e02",
   "metadata": {},
   "outputs": [
    {
     "name": "stdout",
     "output_type": "stream",
     "text": [
      "10\n",
      "3.321928094887362\n",
      "0.008482708037266622\n"
     ]
    }
   ],
   "source": [
    "n = 14\n",
    "r  = 10\n",
    "print(r)\n",
    "print(np.log2(10))\n",
    "print(h_tilde_min)"
   ]
  },
  {
   "cell_type": "code",
   "execution_count": 106,
   "id": "e578dfba",
   "metadata": {
    "scrolled": true
   },
   "outputs": [
    {
     "data": {
      "text/plain": [
       "0.10020780026151203"
      ]
     },
     "execution_count": 106,
     "metadata": {},
     "output_type": "execute_result"
    }
   ],
   "source": [
    "h_tilde = 0.1\n",
    "w = entropy_to_basin_sizes(h_tilde,r,n)\n",
    "basin_entropy(w)"
   ]
  },
  {
   "cell_type": "code",
   "execution_count": 107,
   "id": "22d1a1da",
   "metadata": {
    "scrolled": true
   },
   "outputs": [
    {
     "data": {
      "text/plain": [
       "Text(0, 0.5, '$w_i$')"
      ]
     },
     "execution_count": 107,
     "metadata": {},
     "output_type": "execute_result"
    },
    {
     "data": {
      "image/png": "[encoded data removed]",
      "text/plain": [
       "<Figure size 432x288 with 1 Axes>"
      ]
     },
     "metadata": {
      "needs_background": "light"
     },
     "output_type": "display_data"
    }
   ],
   "source": [
    "plt.plot(w,'o')\n",
    "plt.yscale('log')\n",
    "plt.xlabel('$i$')\n",
    "plt.ylabel('$w_i$')"
   ]
  },
  {
   "cell_type": "code",
   "execution_count": 121,
   "id": "86152af9",
   "metadata": {},
   "outputs": [],
   "source": [
    "def entropy_to_basin_sizes(h_tilde,r,n):\n",
    "    w = entropy_to_relative_basin_sizes(h_tilde,r,n)\n",
    "    w_int = [round(w[_]*2**n) for _ in range(len(w))]\n",
    "    w_int[-1] = w_int[-1] +  2**n - np.sum(w_int)\n",
    "    return np.array(w_int)"
   ]
  },
  {
   "cell_type": "code",
   "execution_count": 123,
   "id": "14ed437a",
   "metadata": {},
   "outputs": [
    {
     "data": {
      "text/plain": [
       "array([6.10351562e-05, 6.10351562e-05, 6.10351562e-05, 6.10351562e-05,\n",
       "       6.10351562e-05, 6.10351562e-05, 6.10351562e-05, 6.10351562e-05,\n",
       "       1.83105469e-04, 9.99328613e-01])"
      ]
     },
     "execution_count": 123,
     "metadata": {},
     "output_type": "execute_result"
    }
   ],
   "source": [
    "entropy_to_basin_sizes(.01,10,14)/2**n"
   ]
  },
  {
   "cell_type": "code",
   "execution_count": 126,
   "id": "6de40083",
   "metadata": {},
   "outputs": [
    {
     "data": {
      "text/plain": [
       "array([    1,     1,     1,     1,     1,     1,     1,     1,     3,\n",
       "       16373])"
      ]
     },
     "execution_count": 126,
     "metadata": {},
     "output_type": "execute_result"
    }
   ],
   "source": [
    "entropy_to_basin_sizes(.01,10,14)"
   ]
  },
  {
   "cell_type": "code",
   "execution_count": 124,
   "id": "473b2ecb",
   "metadata": {},
   "outputs": [
    {
     "data": {
      "text/plain": [
       "0.010077479823021712"
      ]
     },
     "execution_count": 124,
     "metadata": {},
     "output_type": "execute_result"
    }
   ],
   "source": [
    "basin_entropy(   entropy_to_basin_sizes(.01,10,14)/2**n   )"
   ]
  },
  {
   "cell_type": "code",
   "execution_count": 125,
   "id": "8a174e88",
   "metadata": {},
   "outputs": [
    {
     "data": {
      "text/plain": [
       "0.1"
      ]
     },
     "execution_count": 125,
     "metadata": {},
     "output_type": "execute_result"
    }
   ],
   "source": [
    "h_tilde"
   ]
  },
  {
   "cell_type": "markdown",
   "id": "0f9a17f5",
   "metadata": {},
   "source": [
    "# old"
   ]
  },
  {
   "cell_type": "code",
   "execution_count": null,
   "id": "d0fe5b71",
   "metadata": {},
   "outputs": [],
   "source": [
    "# max h is log2(r)"
   ]
  },
  {
   "cell_type": "code",
   "execution_count": 74,
   "id": "771ee2fc",
   "metadata": {},
   "outputs": [
    {
     "name": "stdout",
     "output_type": "stream",
     "text": [
      "sum(w0) = 1.0\n"
     ]
    }
   ],
   "source": [
    "# try using `minimize` function\n",
    "# r = len(w)\n",
    "r = 50\n",
    "h_tilde = 4.5\n",
    "if h_tilde > np.log2(r): \n",
    "    raise ValueError(\"Basin entropy cannot be larger than log2(r)\")\n",
    "func = lambda w: (basin_entropy(w) - h_tilde)**2\n",
    "w0 = [ (i+1)/(r*(r+1)/2) for i in range(r) ]\n",
    "print(\"sum(w0) = {}\".format(np.sum(w0)))\n",
    "normConstraint = scipy.optimize.LinearConstraint(np.ones(r),lb=1.,ub=1.)\n",
    "bound = scipy.optimize.Bounds(lb=0.,ub=1.)\n",
    "solution = scipy.optimize.minimize(func,w0,constraints=normConstraint,bounds=bound)"
   ]
  },
  {
   "cell_type": "code",
   "execution_count": 76,
   "id": "b5ac9ead",
   "metadata": {},
   "outputs": [
    {
     "data": {
      "text/plain": [
       "4.50030543769444"
      ]
     },
     "execution_count": 76,
     "metadata": {},
     "output_type": "execute_result"
    }
   ],
   "source": [
    "basin_entropy(solution.x)"
   ]
  },
  {
   "cell_type": "code",
   "execution_count": 86,
   "id": "bea7be71",
   "metadata": {},
   "outputs": [
    {
     "data": {
      "text/plain": [
       "0"
      ]
     },
     "execution_count": 86,
     "metadata": {},
     "output_type": "execute_result"
    }
   ],
   "source": [
    "solution.status"
   ]
  },
  {
   "cell_type": "code",
   "execution_count": 75,
   "id": "54ec5484",
   "metadata": {
    "scrolled": true
   },
   "outputs": [
    {
     "data": {
      "text/plain": [
       "Text(0, 0.5, '$w_i$')"
      ]
     },
     "execution_count": 75,
     "metadata": {},
     "output_type": "execute_result"
    },
    {
     "data": {
      "image/png": "[encoded data removed]",
      "text/plain": [
       "<Figure size 640x480 with 1 Axes>"
      ]
     },
     "metadata": {},
     "output_type": "display_data"
    }
   ],
   "source": [
    "plt.plot(solution.x,'o')\n",
    "plt.yscale('log')\n",
    "plt.xlabel('$i$')\n",
    "plt.ylabel('$w_i$')"
   ]
  },
  {
   "cell_type": "code",
   "execution_count": 17,
   "id": "3d63ef27",
   "metadata": {},
   "outputs": [
    {
     "ename": "TypeError",
     "evalue": "fsolve: there is a mismatch between the input and output shape of the 'func' argument '<lambda>'.Shape should be (5,) but it is (2,).",
     "output_type": "error",
     "traceback": [
      "\u001b[0;31m---------------------------------------------------------------------------\u001b[0m",
      "\u001b[0;31mTypeError\u001b[0m                                 Traceback (most recent call last)",
      "Cell \u001b[0;32mIn[17], line 8\u001b[0m\n\u001b[1;32m      6\u001b[0m rootFunc \u001b[38;5;241m=\u001b[39m \u001b[38;5;28;01mlambda\u001b[39;00m w: [entropyFunc(w),normFunc(w)]\n\u001b[1;32m      7\u001b[0m w0 \u001b[38;5;241m=\u001b[39m [ \u001b[38;5;241m1.\u001b[39m\u001b[38;5;241m/\u001b[39mr \u001b[38;5;28;01mfor\u001b[39;00m i \u001b[38;5;129;01min\u001b[39;00m \u001b[38;5;28mrange\u001b[39m(r) ]\n\u001b[0;32m----> 8\u001b[0m \u001b[43mscipy\u001b[49m\u001b[38;5;241;43m.\u001b[39;49m\u001b[43moptimize\u001b[49m\u001b[38;5;241;43m.\u001b[39;49m\u001b[43mroot\u001b[49m\u001b[43m(\u001b[49m\u001b[43mrootFunc\u001b[49m\u001b[43m,\u001b[49m\u001b[43mw0\u001b[49m\u001b[43m)\u001b[49m\n",
      "File \u001b[0;32m~/opt/anaconda3/lib/python3.9/site-packages/scipy/optimize/_root.py:235\u001b[0m, in \u001b[0;36mroot\u001b[0;34m(fun, x0, args, method, jac, tol, callback, options)\u001b[0m\n\u001b[1;32m    232\u001b[0m         options\u001b[38;5;241m.\u001b[39msetdefault(\u001b[38;5;124m'\u001b[39m\u001b[38;5;124mfatol\u001b[39m\u001b[38;5;124m'\u001b[39m, np\u001b[38;5;241m.\u001b[39minf)\n\u001b[1;32m    234\u001b[0m \u001b[38;5;28;01mif\u001b[39;00m meth \u001b[38;5;241m==\u001b[39m \u001b[38;5;124m'\u001b[39m\u001b[38;5;124mhybr\u001b[39m\u001b[38;5;124m'\u001b[39m:\n\u001b[0;32m--> 235\u001b[0m     sol \u001b[38;5;241m=\u001b[39m \u001b[43m_root_hybr\u001b[49m\u001b[43m(\u001b[49m\u001b[43mfun\u001b[49m\u001b[43m,\u001b[49m\u001b[43m \u001b[49m\u001b[43mx0\u001b[49m\u001b[43m,\u001b[49m\u001b[43m \u001b[49m\u001b[43margs\u001b[49m\u001b[38;5;241;43m=\u001b[39;49m\u001b[43margs\u001b[49m\u001b[43m,\u001b[49m\u001b[43m \u001b[49m\u001b[43mjac\u001b[49m\u001b[38;5;241;43m=\u001b[39;49m\u001b[43mjac\u001b[49m\u001b[43m,\u001b[49m\u001b[43m \u001b[49m\u001b[38;5;241;43m*\u001b[39;49m\u001b[38;5;241;43m*\u001b[39;49m\u001b[43moptions\u001b[49m\u001b[43m)\u001b[49m\n\u001b[1;32m    236\u001b[0m \u001b[38;5;28;01melif\u001b[39;00m meth \u001b[38;5;241m==\u001b[39m \u001b[38;5;124m'\u001b[39m\u001b[38;5;124mlm\u001b[39m\u001b[38;5;124m'\u001b[39m:\n\u001b[1;32m    237\u001b[0m     sol \u001b[38;5;241m=\u001b[39m _root_leastsq(fun, x0, args\u001b[38;5;241m=\u001b[39margs, jac\u001b[38;5;241m=\u001b[39mjac, \u001b[38;5;241m*\u001b[39m\u001b[38;5;241m*\u001b[39moptions)\n",
      "File \u001b[0;32m~/opt/anaconda3/lib/python3.9/site-packages/scipy/optimize/_minpack_py.py:229\u001b[0m, in \u001b[0;36m_root_hybr\u001b[0;34m(func, x0, args, jac, col_deriv, xtol, maxfev, band, eps, factor, diag, **unknown_options)\u001b[0m\n\u001b[1;32m    227\u001b[0m \u001b[38;5;28;01mif\u001b[39;00m \u001b[38;5;129;01mnot\u001b[39;00m \u001b[38;5;28misinstance\u001b[39m(args, \u001b[38;5;28mtuple\u001b[39m):\n\u001b[1;32m    228\u001b[0m     args \u001b[38;5;241m=\u001b[39m (args,)\n\u001b[0;32m--> 229\u001b[0m shape, dtype \u001b[38;5;241m=\u001b[39m \u001b[43m_check_func\u001b[49m\u001b[43m(\u001b[49m\u001b[38;5;124;43m'\u001b[39;49m\u001b[38;5;124;43mfsolve\u001b[39;49m\u001b[38;5;124;43m'\u001b[39;49m\u001b[43m,\u001b[49m\u001b[43m \u001b[49m\u001b[38;5;124;43m'\u001b[39;49m\u001b[38;5;124;43mfunc\u001b[39;49m\u001b[38;5;124;43m'\u001b[39;49m\u001b[43m,\u001b[49m\u001b[43m \u001b[49m\u001b[43mfunc\u001b[49m\u001b[43m,\u001b[49m\u001b[43m \u001b[49m\u001b[43mx0\u001b[49m\u001b[43m,\u001b[49m\u001b[43m \u001b[49m\u001b[43margs\u001b[49m\u001b[43m,\u001b[49m\u001b[43m \u001b[49m\u001b[43mn\u001b[49m\u001b[43m,\u001b[49m\u001b[43m \u001b[49m\u001b[43m(\u001b[49m\u001b[43mn\u001b[49m\u001b[43m,\u001b[49m\u001b[43m)\u001b[49m\u001b[43m)\u001b[49m\n\u001b[1;32m    230\u001b[0m \u001b[38;5;28;01mif\u001b[39;00m epsfcn \u001b[38;5;129;01mis\u001b[39;00m \u001b[38;5;28;01mNone\u001b[39;00m:\n\u001b[1;32m    231\u001b[0m     epsfcn \u001b[38;5;241m=\u001b[39m finfo(dtype)\u001b[38;5;241m.\u001b[39meps\n",
      "File \u001b[0;32m~/opt/anaconda3/lib/python3.9/site-packages/scipy/optimize/_minpack_py.py:40\u001b[0m, in \u001b[0;36m_check_func\u001b[0;34m(checker, argname, thefunc, x0, args, numinputs, output_shape)\u001b[0m\n\u001b[1;32m     38\u001b[0m             msg \u001b[38;5;241m+\u001b[39m\u001b[38;5;241m=\u001b[39m \u001b[38;5;124m\"\u001b[39m\u001b[38;5;124m.\u001b[39m\u001b[38;5;124m\"\u001b[39m\n\u001b[1;32m     39\u001b[0m         msg \u001b[38;5;241m+\u001b[39m\u001b[38;5;241m=\u001b[39m \u001b[38;5;124m'\u001b[39m\u001b[38;5;124mShape should be \u001b[39m\u001b[38;5;132;01m%s\u001b[39;00m\u001b[38;5;124m but it is \u001b[39m\u001b[38;5;132;01m%s\u001b[39;00m\u001b[38;5;124m.\u001b[39m\u001b[38;5;124m'\u001b[39m \u001b[38;5;241m%\u001b[39m (output_shape, shape(res))\n\u001b[0;32m---> 40\u001b[0m         \u001b[38;5;28;01mraise\u001b[39;00m \u001b[38;5;167;01mTypeError\u001b[39;00m(msg)\n\u001b[1;32m     41\u001b[0m \u001b[38;5;28;01mif\u001b[39;00m issubdtype(res\u001b[38;5;241m.\u001b[39mdtype, inexact):\n\u001b[1;32m     42\u001b[0m     dt \u001b[38;5;241m=\u001b[39m res\u001b[38;5;241m.\u001b[39mdtype\n",
      "\u001b[0;31mTypeError\u001b[0m: fsolve: there is a mismatch between the input and output shape of the 'func' argument '<lambda>'.Shape should be (5,) but it is (2,)."
     ]
    }
   ],
   "source": [
    "# try using root-finding function\n",
    "r = 5\n",
    "h_tilde = 2\n",
    "entropyFunc = lambda w: (basin_entropy(w) - h_tilde)**2\n",
    "normFunc = lambda w: (np.dot(np.ones(r),w) - 1.)**2\n",
    "rootFunc = lambda w: [entropyFunc(w),normFunc(w)]\n",
    "w0 = [ 1./r for i in range(r) ]\n",
    "scipy.optimize.root(rootFunc,w0)"
   ]
  },
  {
   "cell_type": "code",
   "execution_count": null,
   "id": "1b8f21b3",
   "metadata": {},
   "outputs": [],
   "source": []
  }
 ],
 "metadata": {
  "kernelspec": {
   "display_name": "Python 3",
   "language": "python",
   "name": "python3"
  },
  "language_info": {
   "codemirror_mode": {
    "name": "ipython",
    "version": 3
   },
   "file_extension": ".py",
   "mimetype": "text/x-python",
   "name": "python",
   "nbconvert_exporter": "python",
   "pygments_lexer": "ipython3",
   "version": "3.9.0"
  }
 },
 "nbformat": 4,
 "nbformat_minor": 5
}
